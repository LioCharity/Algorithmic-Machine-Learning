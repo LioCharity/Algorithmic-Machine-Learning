{
 "cells": [
  {
   "cell_type": "markdown",
   "metadata": {},
   "source": [
    "<div>\n",
    "<h1>Run the cell below to generate the road map (do not modify it)</h1></div>"
   ]
  },
  {
   "cell_type": "code",
   "execution_count": 1,
   "metadata": {
    "collapsed": false
   },
   "outputs": [
    {
     "data": {
      "application/javascript": [
       "var kernel = IPython.notebook.kernel;var thename = window.document.getElementById(\"notebook_name\").innerHTML;var command = \"THE_NOTEBOOK = \" + \"'\"+thename+\"'\";kernel.execute(command);command=\"os.environ['THE_NOTEBOOK'] = THE_NOTEBOOK\";kernel.execute(command);var cell = IPython.notebook.get_cell(2);cell.execute();IPython.notebook.get_cell(3).focus_cell();var x = $('.code_cell');$(x[1]).children('.input').hide();"
      ],
      "text/plain": [
       "<IPython.core.display.Javascript object>"
      ]
     },
     "metadata": {},
     "output_type": "display_data"
    }
   ],
   "source": [
    "%%javascript\n",
    "var kernel = IPython.notebook.kernel;var thename = window.document.getElementById(\"notebook_name\").innerHTML;var command = \"THE_NOTEBOOK = \" + \"'\"+thename+\"'\";kernel.execute(command);command=\"os.environ['THE_NOTEBOOK'] = THE_NOTEBOOK\";kernel.execute(command);var cell = IPython.notebook.get_cell(2);cell.execute();IPython.notebook.get_cell(3).focus_cell();var x = $('.code_cell');$(x[1]).children('.input').hide();"
   ]
  },
  {
   "cell_type": "code",
   "execution_count": 2,
   "metadata": {
    "collapsed": false
   },
   "outputs": [
    {
     "data": {
      "text/html": [
       "\n",
       "   <script src=\"http://code.jquery.com/jquery-latest.min.js\" type=\"text/javascript\"></script>\n",
       "   <script>\n",
       "      (function($){\n",
       "         $(document).ready(function(){\n",
       "\n",
       "         $('#cssmenu li.active').addClass('open').children('ul').show();\n",
       "            $('#cssmenu li.has-sub>a').on('click', function(){\n",
       "               $(this).removeAttr('href');\n",
       "               var margin_left = parseInt($(this).css('padding-left').replace('px', ''));\n",
       "               var element = $(this).parent('li');\n",
       "               if (element.hasClass('open')) {\n",
       "                  element.removeClass('open');\n",
       "                  element.find('li').removeClass('open');\n",
       "                  element.find('ul').slideUp(200);\n",
       "               }\n",
       "               else {\n",
       "                  element.addClass('open');\n",
       "                  element.children('ul').slideDown(200);\n",
       "                  element.siblings('li').children('ul').slideUp(200);\n",
       "                  element.siblings('li').removeClass('open');\n",
       "                  element.siblings('li').find('li').removeClass('open');\n",
       "                  element.siblings('li').find('ul').slideUp(200);\n",
       "                  element.children().find('a').css('padding-left', margin_left + 16 + \"px\");\n",
       "               }\n",
       "            });\n",
       "\n",
       "            var screen_height = $(window).height(); \n",
       "            var headerHeight = $(\"#header\").outerHeight();\n",
       "            var max_height_menu = screen_height - headerHeight;\n",
       "            $(\"#cssmenu\").css('max-height', max_height_menu + 'px');\n",
       "            $(\"#cssmenu\").css('top', headerHeight + 'px');\n",
       "            $(\"#menu-activator\").css('top', headerHeight + 'px');\n",
       "            $(\"#cssmenu\").show();\n",
       "            $(\"#menu-activator\").hide();\n",
       "\n",
       "\n",
       "            $(\"#menu-activator\").mouseover(function(){\n",
       "              $(\"#cssmenu\").show();\n",
       "              $(\"#menu-activator\").hide();\n",
       "            });\n",
       "\n",
       "\n",
       "            $(\"#cssmenu\").mouseleave(function(){\n",
       "              $(\"#cssmenu\").hide();\n",
       "              $(\"#menu-activator\").show();\n",
       "            });\n",
       "\n",
       "            $(\"div.anchor\").parent('div').addClass('bcolor');\n",
       "\n",
       "         });\n",
       "      })(jQuery);\n",
       "   </script>\n",
       "   <style>\n",
       "      @import url(http://fonts.googleapis.com/css?family=Raleway:400,200);\n",
       "      #cssmenu,\n",
       "      #cssmenu ul,\n",
       "      #cssmenu ul li,\n",
       "      #cssmenu ul li a {\n",
       "        margin: 0;\n",
       "        padding: 0;\n",
       "        border: 0;\n",
       "        list-style: none;\n",
       "        line-height: 1;\n",
       "        display: block;\n",
       "        position: relative;\n",
       "        -webkit-box-sizing: border-box;\n",
       "        -moz-box-sizing: border-box;\n",
       "        box-sizing: border-box;\n",
       "      }\n",
       "      #cssmenu {\n",
       "        width: 220px;\n",
       "        font-family: Raleway, sans-serif;\n",
       "        color: #ffffff;\n",
       "        max-height:600px;\n",
       "        overflow-y:scroll;\n",
       "        overflow-x:hidden;\n",
       "        position:fixed;\n",
       "        top:130px;\n",
       "        left:0px;\n",
       "      }\n",
       "      #cssmenu ul ul {\n",
       "        display: none;\n",
       "      }\n",
       "      #cssmenu > ul > li.active > ul {\n",
       "        display: block;\n",
       "      }\n",
       "      .align-right {\n",
       "        float: right;\n",
       "      }\n",
       "      #cssmenu > ul > li > a {\n",
       "        padding: 16px 22px;\n",
       "        cursor: pointer;\n",
       "        z-index: 2;\n",
       "        font-size: 16px;\n",
       "        text-decoration: none;\n",
       "        color: #ffffff;\n",
       "        background: #565656;\n",
       "        -webkit-transition: color .2s ease;\n",
       "        -o-transition: color .2s ease;\n",
       "        transition: color .2s ease;\n",
       "      }\n",
       "      #cssmenu > ul > li > a:hover {\n",
       "        color: #d8f3f0;\n",
       "      }\n",
       "      #cssmenu ul > li.has-sub > a:after {\n",
       "        position: absolute;\n",
       "        right: 26px;\n",
       "        top: 19px;\n",
       "        z-index: 5;\n",
       "        display: block;\n",
       "        height: 10px;\n",
       "        width: 2px;\n",
       "        background: #ffffff;\n",
       "        content: \"\";\n",
       "        -webkit-transition: all 0.1s ease-out;\n",
       "        -moz-transition: all 0.1s ease-out;\n",
       "        -ms-transition: all 0.1s ease-out;\n",
       "        -o-transition: all 0.1s ease-out;\n",
       "        transition: all 0.1s ease-out;\n",
       "      }\n",
       "      #cssmenu ul > li.has-sub > a:before {\n",
       "        position: absolute;\n",
       "        right: 22px;\n",
       "        top: 23px;\n",
       "        display: block;\n",
       "        width: 10px;\n",
       "        height: 2px;\n",
       "        background: #ffffff;\n",
       "        content: \"\";\n",
       "        -webkit-transition: all 0.1s ease-out;\n",
       "        -moz-transition: all 0.1s ease-out;\n",
       "        -ms-transition: all 0.1s ease-out;\n",
       "        -o-transition: all 0.1s ease-out;\n",
       "        transition: all 0.1s ease-out;\n",
       "      }\n",
       "      #cssmenu ul > li.has-sub.open > a:after,\n",
       "      #cssmenu ul > li.has-sub.open > a:before {\n",
       "        -webkit-transform: rotate(45deg);\n",
       "        -moz-transform: rotate(45deg);\n",
       "        -ms-transform: rotate(45deg);\n",
       "        -o-transform: rotate(45deg);\n",
       "        transform: rotate(45deg);\n",
       "      }\n",
       "      #cssmenu ul ul li a {\n",
       "        padding: 14px 22px;\n",
       "        cursor: pointer;\n",
       "        z-index: 2;\n",
       "        font-size: 14px;\n",
       "        text-decoration: none;\n",
       "        color: #dddddd;\n",
       "        background: #49505a;\n",
       "        -webkit-transition: color .2s ease;\n",
       "        -o-transition: color .2s ease;\n",
       "        transition: color .2s ease;\n",
       "      }\n",
       "      #cssmenu ul ul ul li a {\n",
       "        /*padding-left: 32px;*/\n",
       "      }\n",
       "      #cssmenu ul ul li a:hover {\n",
       "        color: #ffffff;\n",
       "      }\n",
       "      #cssmenu ul ul > li.has-sub > a:after {\n",
       "        top: 16px;\n",
       "        right: 26px;\n",
       "        background: #dddddd;\n",
       "      }\n",
       "      #cssmenu ul ul > li.has-sub > a:before {\n",
       "        top: 20px;\n",
       "        background: #dddddd;\n",
       "      }\n",
       "      #menu-activator {\n",
       "        position: fixed;\n",
       "        top: 130px;\n",
       "        left: 0px;\n",
       "        width: 60px;\n",
       "        padding: 16px 20px;\n",
       "        display: block;\n",
       "        background-color: #565656;\n",
       "        font-size: 16px;\n",
       "        color: white;\n",
       "      }\n",
       "\n",
       "      div.bcolor, span.bcolor {\n",
       "      \tborder-radius: 15px; \n",
       "      \tbackground: rgb(224,239,130);\n",
       "      \tpadding:10px;\n",
       "      }\n",
       "\n",
       "      div.answer, div.comment, div.note {\n",
       "        background-color: rgb(255, 235, 218);\n",
       "        padding: 10px;\n",
       "        border-radius: 5px;\n",
       "      }\n",
       "\n",
       "      div.comment::before, div.answer::before, div.note::before {\n",
       "          background-color: yellow;\n",
       "          color: red;\n",
       "          font-weight: bold;\n",
       "          margin-right:5px;\n",
       "          padding:3px;\n",
       "      }\n",
       "\n",
       "      div.comment::before {\n",
       "        content: \"Comment:\";\n",
       "      }\n",
       "\n",
       "      div.answer::before {\n",
       "        content: \"Answer:\";\n",
       "      }\n",
       "\n",
       "      div.note::before {\n",
       "        content: \"Note:\";\n",
       "      }\n",
       "\n",
       "      @media print{\n",
       "      \t#cssmenu {\n",
       "      \t\tdisplay:none;\n",
       "      \t}\n",
       "      }\n",
       "   </style>\n",
       "   <title>Roadmap</title>\n",
       "</head>\n",
       "<body>\n",
       "<div id=\"menu-activator\">O</div>\n",
       "<div id='cssmenu'>\n",
       "<ul>\n",
       "<li class='has-sub'><a href=\"#\">ROADMAP</a>\n",
       "<ul><li><a href='#Goals'>Goals</a></li><li><a href='#Steps'>Steps</a></li><li class='has-sub'><a href='#1.-Decision-trees-and-Random-Forests:-Simple-but-Powerful-Algorithms'>1. Decision trees and Random Forests: Simple but Powerful Algorithms</a><ul><li><a href='#1.1-Feature-definition'>1.1 Feature definition</a></li><li><a href='#1.2-Decision-Trees-&-Random-Forests'>1.2 Decision Trees & Random Forests</a></li></ul></li><li class='has-sub'><a href='#2.-Usecase-:-Flights-delay-prediction'>2. Usecase : Flights delay prediction</a><ul><li><a href='#2.1-Context'>2.1 Context</a></li><li><a href='#2.2-Data'>2.2 Data</a></li><li><a href='#2.3-Methodology'>2.3 Methodology</a></li></ul></li><li class='has-sub'><a href='#3.-Let's-play:-Data-Exploration'>3. Let's play: Data Exploration</a><ul><li><a href='#3.1-Understanding-the-data-schema'>3.1 Understanding the data schema</a></li><li class='has-sub'><a href='#3.2-Data-cleaning'>3.2 Data cleaning</a><ul><li class='has-sub'><a href='#Question-1'>Question 1</a><ul><li><a href='#Question-1.1'>Question 1.1</a></li><li><a href='#Question-1.2'>Question 1.2</a></li></ul></li></ul></li><li class='has-sub'><a href='#3.3-Transforming-our-data-to-a-DataFrame'>3.3 Transforming our data to a DataFrame</a><ul><li><a href='#Question-2'>Question 2</a></li></ul></li><li class='has-sub'><a href='#3.4-Descriptive-statistics'>3.4 Descriptive statistics</a><ul><li class='has-sub'><a href='#Question-3:-Basic-queries'>Question 3: Basic queries</a><ul><li><a href='#Question-3.1'>Question 3.1</a></li><li><a href='#Question-3.2'>Question 3.2</a></li><li><a href='#Question-3.3'>Question 3.3</a></li></ul></li><li class='has-sub'><a href='#Question-4:-Flight-volume-statistics'>Question 4: Flight volume statistics</a><ul><li><a href='#Question-4.1:'>Question 4.1:</a></li><li><a href='#Question-4.2:'>Question 4.2:</a></li><li><a href='#Question-4.3'>Question 4.3</a></li><li><a href='#Question-4.4'>Question 4.4</a></li><li><a href='#Question-4.5'>Question 4.5</a></li></ul></li><li class='has-sub'><a href='#Question-5'>Question 5</a><ul><li><a href='#Question-5.1'>Question 5.1</a></li><li><a href='#Question-5.2'>Question 5.2</a></li><li><a href='#Question-5.3'>Question 5.3</a></li><li><a href='#Question-5.4'>Question 5.4</a></li><li><a href='#Question-5.5'>Question 5.5</a></li><li><a href='#Question-5.6'>Question 5.6</a></li><li><a href='#Question-5.7'>Question 5.7</a></li><li><a href='#Question-5.8'>Question 5.8</a></li></ul></li></ul></li></ul></li><li class='has-sub'><a href='#4.-Building-a-model-of-our-data'>4. Building a model of our data</a><ul><li class='has-sub'><a href='#4.1-Mapping-values-of-each-categorical-feature-to-indices'>4.1 Mapping values of each categorical feature to indices</a><ul><li class='has-sub'><a href='#Question-6'>Question 6</a><ul><li><a href='#Question-6.1'>Question 6.1</a></li><li><a href='#Question-6.2'>Question 6.2</a></li><li><a href='#Question-6.3'>Question 6.3</a></li></ul></li></ul></li><li class='has-sub'><a href='#4.2-Calculating-the-most-common-value-of-each-feature'>4.2 Calculating the most common value of each feature</a><ul><li class='has-sub'><a href='#Question-7'>Question 7</a><ul><li><a href='#Question-7.1'>Question 7.1</a></li><li><a href='#Question-7.2'>Question 7.2</a></li><li><a href='#Question-7.3'>Question 7.3</a></li><li><a href='#Question-7.4'>Question 7.4</a></li><li><a href='#Question-7.5'>Question 7.5</a></li></ul></li></ul></li><li class='has-sub'><a href='#4.3-Preparing-training-data-and-testing-data'>4.3 Preparing training data and testing data</a><ul><li><a href='#Question-8'>Question 8</a></li></ul></li><li class='has-sub'><a href='#5.4-Building-a-decision-tree-model'>5.4 Building a decision tree model</a><ul><li><a href='#Question-9'>Question 9</a></li></ul></li><li class='has-sub'><a href='#5.5-Testing-the-decision-tree-model'>5.5 Testing the decision tree model</a><ul><li class='has-sub'><a href='#Question-10'>Question 10</a><ul><li><a href='#Question-10.1'>Question 10.1</a></li></ul></li><li><a href='#Question-10.2'>Question 10.2</a></li></ul></li><li class='has-sub'><a href='#5.6-Building-random-decision-forest-model-(or-random-forest)'>5.6 Building random decision forest model (or random forest)</a><ul><li><a href='#Question-11'>Question 11</a></li></ul></li><li class='has-sub'><a href='#5.7-Parameter-tuning'>5.7 Parameter tuning</a><ul><li><a href='#Question-12'>Question 12</a></li></ul></li></ul></li><li class='has-sub'><a href='#6.-Addition-(bonus)-questions'>6. Addition (bonus) questions</a><ul><li><a href='#6.1.-Additional-data'>6.1. Additional data</a></li><li class='has-sub'><a href='#6.2.-Feature-selection'>6.2. Feature selection</a><ul><li><a href='#Question-13'>Question 13</a></li></ul></li></ul></li><li><a href='#Summary'>Summary</a></li></ul>\n",
       "</li>\n",
       "<li class='has-sub'><a href=\"#\">QUESTIONS</a>\n",
       "<ul><li class='has-sub'><a href='#Question-1'>Question 1</a><ul><li><a href='#Question-1.1'>Question 1.1</a></li><li><a href='#Question-1.2'>Question 1.2</a></li></ul></li><li><a href='#Question-2'>Question 2</a></li><li class='has-sub'><a href='#Question-3:-Basic-queries'>Question 3: Basic queries</a><ul><li><a href='#Question-3.1'>Question 3.1</a></li><li><a href='#Question-3.2'>Question 3.2</a></li><li><a href='#Question-3.3'>Question 3.3</a></li></ul></li><li class='has-sub'><a href='#Question-4:-Flight-volume-statistics'>Question 4: Flight volume statistics</a><ul><li><a href='#Question-4.1:'>Question 4.1:</a></li><li><a href='#Question-4.2:'>Question 4.2:</a></li><li><a href='#Question-4.3'>Question 4.3</a></li><li><a href='#Question-4.4'>Question 4.4</a></li><li><a href='#Question-4.5'>Question 4.5</a></li></ul></li><li class='has-sub'><a href='#Question-5'>Question 5</a><ul><li><a href='#Question-5.1'>Question 5.1</a></li><li><a href='#Question-5.2'>Question 5.2</a></li><li><a href='#Question-5.3'>Question 5.3</a></li><li><a href='#Question-5.4'>Question 5.4</a></li><li><a href='#Question-5.5'>Question 5.5</a></li><li><a href='#Question-5.6'>Question 5.6</a></li><li><a href='#Question-5.7'>Question 5.7</a></li><li><a href='#Question-5.8'>Question 5.8</a></li></ul></li><li class='has-sub'><a href='#Question-6'>Question 6</a><ul><li><a href='#Question-6.1'>Question 6.1</a></li><li><a href='#Question-6.2'>Question 6.2</a></li><li><a href='#Question-6.3'>Question 6.3</a></li></ul></li><li class='has-sub'><a href='#Question-7'>Question 7</a><ul><li><a href='#Question-7.1'>Question 7.1</a></li><li><a href='#Question-7.2'>Question 7.2</a></li><li><a href='#Question-7.3'>Question 7.3</a></li><li><a href='#Question-7.4'>Question 7.4</a></li><li><a href='#Question-7.5'>Question 7.5</a></li></ul></li><li><a href='#Question-8'>Question 8</a></li><li><a href='#Question-9'>Question 9</a></li><li class='has-sub'><a href='#Question-10'>Question 10</a><ul><li><a href='#Question-10.1'>Question 10.1</a></li><li><a href='#Question-10.2'>Question 10.2</a></li></ul></li><li><a href='#Question-11'>Question 11</a></li><li><a href='#Question-12'>Question 12</a></li><li><a href='#6.-Addition-(bonus)-questions'>6. Addition (bonus) questions</a></li><li><a href='#Question-13'>Question 13</a></li></ul>\n",
       "</li>\n",
       "</ul>\n",
       "</div>\n",
       "\n"
      ],
      "text/plain": [
       "<IPython.core.display.HTML object>"
      ]
     },
     "execution_count": 2,
     "metadata": {},
     "output_type": "execute_result"
    }
   ],
   "source": [
    "outputdir = \"/tmp/tools/\"\n",
    "!mkdir -p $outputdir\n",
    "!wget \"https://www.dropbox.com/s/4g0pigmro4vo1b4/menutemplate?dl=0\" -O /tmp/tools/menutemplate >> /tmp/toollog 2>&1 \n",
    "!wget \"https://www.dropbox.com/s/3flttpzhsja8td7/construct_menu.py?dl=0\" -O /tmp/tools/construct_menu.py >> /tmp/toollog 2>&1 \n",
    "!python /tmp/tools/construct_menu.py \"{THE_NOTEBOOK}.ipynb\" {outputdir}\n",
    "from IPython.core.display import HTML\n",
    "output_file_name = outputdir + THE_NOTEBOOK.replace(\" \", \"\").replace(\"[\", \"\").replace(\"]\", \"\") + \".ipynb.html\"\n",
    "with open(output_file_name) as fp:\n",
    "    html = fp.read()\n",
    "HTML(html)"
   ]
  },
  {
   "cell_type": "markdown",
   "metadata": {},
   "source": [
    "In this notebook, we will learn how to solve the regression problem of predicting flight delays, using decision trees and random forests.\n",
    "\n",
    "# Goals\n",
    "The main goals of this project are as follows:\n",
    "1. Revisit the concepts behind Decision Trees and Random Forests\n",
    "2. Build a simple methodology to address Data Science projects\n",
    "3. Use the existing implementation of Random Forests in MLLib in a specific use case, that is to predict the delay of flights\n",
    "\n",
    "# Steps\n",
    "\n",
    "- First, in section 1, we will go through a short introduction about the fudamentals of Decision Trees and Random Forsests, such as feature definition, the form of a decision tree, how does it work and the idea of a forest of decision trees. If the student is familiar with these topics, skip to section 2.\n",
    "- In section 2, we delve into the details of the use case of this notebook including: providing the context, introducing the data and the basic methodology to address the project in this notebook\n",
    "- In section 3, we perform data exploration\n",
    "- In section 4, we build the statistical model and validate it"
   ]
  },
  {
   "cell_type": "markdown",
   "metadata": {},
   "source": [
    "# 1. Decision trees and Random Forests: Simple but Powerful Algorithms\n",
    "> Prediction is very difficult, especially if it’s about the future. (Niels Bohr)\n",
    "\n",
    "Decision trees are a very popular approach to prediction problems. Decision trees can be trained from both categorical and numerical features, to perform classification and regression. Classification and regression are the oldest and most well-studied types of predictive analytics. In many analytics packages and libraries, most algorithms are devoted either to address classification or regression problems, and they include for example support vector machines (SVM), neural networks, naïve Bayes, logistic regression, and deep learning...\n",
    "\n",
    "In general, classification refers to the problem of predicting a label, or category, like *spam/not spam*, *rainy/sunny/mild*, for some given data. Regression refers to predicting a numeric quantity like salary, temperature, delay time, product's price. Both classification and regression involve predicting one (or more) values given one (or more) other input values. They require labelled data to perform a training phase, which builds the statistical model: they belong to *supervised learning* techniques.\n",
    "\n",
    "## 1.1 Feature definition\n",
    "To understand how regression and classification operate, it is necessary to briefly define the terms that describe their input and output. \n",
    "\n",
    "Assume that we want to predict the temperature of tomorrow given today's weather information.\n",
    "The weather information is a loose concept. For example, we can use many variables to express today's weather such as:\n",
    "* the average humidity today\n",
    "* today’s high temperature\n",
    "* today’s low temperature \n",
    "* wind speed\n",
    "* outlook: e.g. cloudy, rainy, or clear\n",
    "* ....\n",
    "\n",
    "These variables are called *features* or *demensions*. \n",
    "\n",
    "Each variable can be quantified. For example, high and low temperatures are measured in degrees Celsius, humidity can be measured as a fraction between 0 and 1, and weather type can be labeled `cloudy`, `rainy` or `clear`...\n",
    "So, the weather today can be expressed by a list of values: `11.4, 18.0, 0.64, 20, cloudy`\n",
    "Each feature is also called a `predictor`. Together, they constitute a `feature vector`.\n",
    "\n",
    "A feature whose domain is a set of categories is called **categorical feature**. In our example, `outlook` is a  categorical feature. A feature whose values are numerical is called **numerical feature**. In our example, `temperature` is a numerical feature.\n",
    "\n",
    "Finally, tomorrow's temperature, that is what we want to predict, is called *target feature*.\n",
    "\n",
    "## 1.2 Decision Trees & Random Forests\n",
    "The first question that you might ask is: \"Why Decision trees and not another approach?\"\n",
    "\n",
    "Well, the literature shows that the family of algorithms known as decision trees can naturally handle both categorical and numeric features. The training process is easy to understand. The model is easy to interpret. They are robust to outliers in the data, meaning that a few extreme and possibly erroneous data points should not affect the tree at all. The model can be trained in parallel easily. The accuracy is comparable to other methods... In short, there are lots of advantages when using decision trees with respect to other methods! \n",
    "\n",
    "The way we use a tree model is very simple to understand. We can say that this process \"mimics\" the way humans take decisions. For example, to decide whether to play football or not, a natural questions would be \"does it rain now ?\". If yes, the decision is `no`. If it's sunny, the condition is favorable to play football. A second natural question could be: \"is it windy?\". If no, then you may want to stay at home because otherwise it is going to be too hot. Otherwise, a third plausible question could be: \"do we have enough people?\". If no, then there's no point playing. Otherwise, time to play!\n",
    "\n",
    "Using a decision tree allows to follow a similar process to that described above (see the image below). Given a new input, the algorithm traverses the tree in a such a way that the input satisfies the condition of each node until reaching a leaf one. The value of the leaf node is the decision.\n",
    "\n",
    "![A decision tree](https://farm2.staticflickr.com/1690/24308350756_8533286fb5_z.jpg)\n",
    "\n",
    "The tree model in the figure is built from historical information concerning many past days. The `feature predictor` contains three features: Rain, Is_Windy, Enough_People.\n",
    "An example of the training data is as follows:\n",
    "\n",
    "Rain | Is_Windy | Enough_People | Play\n",
    "-----|----------|---------------|------\n",
    "Yes | Yes | No | No\n",
    "No  | No | No | No\n",
    "No | Yes | Yes | Yes\n",
    "No | No | Yes | No\n",
    "\n",
    "As you can see, in the training data, we know the values of predictors and we also know the corresponding answer: we have the ground truth.\n",
    "\n",
    "One limitation of decision trees is that it's easy to incur in overfitting problems. In other words, the model is too fit to the training data, it is too precise and not general enough. So, when testing the quality of predictions with different testing sets, accuracy could fluctuate. To overcome this limitation, the tree can be pruned after it is built, or even be pruned during the training process. Another approach is building a `Random Decision Forest`.\n",
    "\n",
    "A `Random Decision Forest`, as its name implies, is a forest of random Decision trees. Each tree element is built randomly from the training data. Randomization generally applies to:\n",
    "* Building new training data: Random selectiion of samples from the training data (with replacement) from the original training data\n",
    "* When building a node: Random selection of a subset of features\n",
    "\n",
    "To take a decision, the forest \"asks\" all trees about their prediction, and then chooses the outcome which is the most voted."
   ]
  },
  {
   "cell_type": "markdown",
   "metadata": {},
   "source": [
    "# 2. Usecase : Flights delay prediction\n",
    "## 2.1 Context\n",
    "Every day, in US, there are thousands of flights departures and arrivals: unfortunately, as you may have noticed yourself, flight delays are not a rare event!! Now, given historical data about flights in the country, including the delay information that was computed *a-posteriori* (so the ground truth is available), we want to build a model that can be used to predict how many minutes of delay a flight might experience in the future. This model should provide useful information for the airport to manage better its resources, to minimize the delays and their impact on the jurney of its passengers. Alternatively, astute passengers could even use the model to choose the best time for flying, such as to avoid delays.\n",
    "\n",
    "## 2.2 Data\n",
    "The data we will use in this notebook has been collected by the RITA (Research and Inovative Technology Administration), and it contains details facets about each air flight that happened in the US between 1987 and 2008. It includes 29 variables such as the origin airport, the destination airport, the scheduled departured time, day, month, the arrival delay... For more information, please visit the following [link](http://stat-computing.org/dataexpo/2009/the-data.html), that provides a lot of detail on the data. Our goal is to build a model to predict `the arrival delay`."
   ]
  },
  {
   "cell_type": "markdown",
   "metadata": {},
   "source": [
    "## 2.3 Methodology\n",
    "For our project, we can follow a simple methodology:\n",
    "\n",
    "- Understand clearly the context, the data and the goal of the project\n",
    "- Pre-process the data (data cleaning): the data can contain invalid values or missing values. We have to process our data to deal with them\n",
    "- Retrieve descriptive information about data: the idea is to discover if whether the data has patterns, whether features have patterns, the skew of values...\n",
    "- Select appropriate features: Only work with significant features will save us memory, communication cost, and ultimately, training time. Feature selection is also important as it can reduce the impact of noise that characterize the unimportant features.\n",
    "- Divide the data into training and testing set\n",
    "- Build a model from the feature in the training set\n",
    "- Test the model"
   ]
  },
  {
   "cell_type": "markdown",
   "metadata": {},
   "source": [
    "# 3. Let's play: Data Exploration\n",
    "Now it's time to apply the simple methodology outlined in section 2.3 on the usecase of this notebook.\n",
    "\n",
    "**Note:** The source code in this lecture should be executed sequentially in the order."
   ]
  },
  {
   "cell_type": "markdown",
   "metadata": {},
   "source": [
    "## 3.1 Understanding the data schema\n",
    "\n",
    "The data has 29 features, that can be either categorical or numerical. For example, the `src_airport` (source airport) is categorical: there exist no comparision operator between airport names. We can not say \"SGN is bigger than NCE\". The departure is numerical, for which a comparison operator exists. For instance, \"flight departing before 6PM\" can be express by \"departure_time < 1800\".\n",
    "\n",
    "In this usecase, most features are numerical, except `carier`, `flight_number`, `cancelled`, `cancelation_code` and `diverted`. \n",
    "\n",
    "The data contains a header, that is useless in building the statistical model. In addition, we already know the data schema, so we can safely neglect it. Note that there are some features with missing values in some lines of the dataset. The missing values are marked by \"NA\". These values can cause problems when processing and can lead to unexpected results. Therefore, we need to remove the header and replace all \"NA\" values by empty values, such as they can be interpreted as null values.\n",
    "\n",
    "As we have seen already, there are multiple ways to manipulate data:\n",
    "\n",
    "- Using the RDD abstraction\n",
    "- Using the DataFrame abstraction. DataFrames can be thought of as distributed tables: each item is a list of values  (the columns). Also, the value in each row of each column can be accesed by the column's name.\n",
    "\n",
    "Next, we will focus on using DataFrames. However, to use DataFrames, the data must be clean (no invalid values). That means we can not create DataFrame directly from the \"RAW\" data. Instead, we will first create an RDD from RAW data, produce a new, clean RDD, then transform it to a DataFrame and work on it. The RDD `cleaned_data` is an RDD[String]. We need to transform it to RDD[(TypeOfColumn1, TypeOfColumn2,.., TypeOfColumn29)] then call a function to create a DataFrame from the new RDD.\n"
   ]
  },
  {
   "cell_type": "markdown",
   "metadata": {},
   "source": [
    "## 3.2 Data cleaning\n",
    "Let's prepare for the cleaning step: Loading the data into an RDD.\n",
    "\n",
    "First, we need to import some useful python modules for this notebook."
   ]
  },
  {
   "cell_type": "code",
   "execution_count": 1,
   "metadata": {
    "collapsed": false
   },
   "outputs": [],
   "source": [
    "import os\n",
    "import sys\n",
    "import re\n",
    "from pyspark import SparkContext\n",
    "from pyspark import SparkContext\n",
    "from pyspark.sql import SQLContext\n",
    "from pyspark.sql.types import *\n",
    "from pyspark.sql import Row\n",
    "from pyspark.sql.functions import *\n",
    "%matplotlib inline\n",
    "import matplotlib.pyplot as plt\n",
    "import pandas as pd\n",
    "import numpy as np\n",
    "import pyspark.sql.functions as func\n",
    "import matplotlib.patches as mpatches\n",
    "\n",
    "# to start testing, we can focus on a single year\n",
    "input_path = \"/datasets/airline/1994.csv\"\n",
    "raw_data = sc.textFile(input_path)"
   ]
  },
  {
   "cell_type": "markdown",
   "metadata": {},
   "source": [
    "![](https://farm2.staticflickr.com/1604/24934700445_833f0a5649_t.jpg)"
   ]
  },
  {
   "cell_type": "markdown",
   "metadata": {},
   "source": [
    "<div class='anchor' ></div>\n",
    "### Question 1 \n",
    "Remove the header and replace the invalid values in our input dataset.\n",
    "\n",
    "#### Question 1.1\n",
    "How many records (rows) in the RAW data ?"
   ]
  },
  {
   "cell_type": "code",
   "execution_count": 2,
   "metadata": {
    "collapsed": false
   },
   "outputs": [
    {
     "name": "stdout",
     "output_type": "stream",
     "text": [
      "number of rows before cleaning: 5180049\n"
     ]
    }
   ],
   "source": [
    "\n",
    "print(\"number of rows before cleaning:\", raw_data.count())\n"
   ]
  },
  {
   "cell_type": "markdown",
   "metadata": {},
   "source": [
    "<div class='anchor' ></div>\n",
    "#### Question 1.2\n",
    "Except for the first column, the others might contain missing values, which are denoted by `NA`. Remove the header and replace NA by an empty character. How many records are left after cleaning the RAW dataset?\n",
    "\n",
    "NOTE: be careful with the valid values that can contain string `NA` inside.\n",
    "\n"
   ]
  },
  {
   "cell_type": "code",
   "execution_count": null,
   "metadata": {
    "collapsed": false
   },
   "outputs": [],
   "source": [
    "\n",
    "# extract the header\n",
    "header = raw_data.first()\n",
    "#print(raw_data.take(10))\n",
    "\n",
    "def replaceNA(line):\n",
    "    row=''\n",
    "    line2 = re.split(',',line)\n",
    "    for i in range(29):\n",
    "        if line2[i] == \"NA\":\n",
    "            line2[i] = ''   \n",
    "        row = row + ','+line2[i]    \n",
    "        row = row.lstrip(',')\n",
    "    return row       \n",
    "# replace invalid data with NULL and remove header\n",
    "cleaned_data = (raw_data\\\n",
    "        # filter out the header\n",
    "        .filter(lambda line : line != header)\n",
    "        # replace the missing values with empty characters\n",
    "        .map(replaceNA)\n",
    "        )\n",
    "        \n",
    "print(\"number of rows after cleaning:\", cleaned_data.count())\n",
    "#print(cleaned_data.take(10))\n"
   ]
  },
  {
   "cell_type": "markdown",
   "metadata": {},
   "source": [
    "## 3.3 Transforming our data to a DataFrame\n",
    "\n",
    "Now the data is clean, valid and can be used to create DataFrame. First, we will declare the data schema for the DataFrame. By doing that, we can specify the name and data type of each column."
   ]
  },
  {
   "cell_type": "code",
   "execution_count": 6,
   "metadata": {
    "collapsed": true
   },
   "outputs": [],
   "source": [
    "sqlContext = SQLContext(sc)\n",
    "\n",
    "\n",
    "# Declare the data schema\n",
    "# see http://stat-computing.org/dataexpo/2009/the-data.html\n",
    "# for more information\n",
    "airline_data_schema = StructType([ \\\n",
    "    #StructField( name, dataType, nullable)\n",
    "    StructField(\"year\",                     IntegerType(), True), \\\n",
    "    StructField(\"month\",                    IntegerType(), True), \\\n",
    "    StructField(\"day_of_month\",             IntegerType(), True), \\\n",
    "    StructField(\"day_of_week\",              IntegerType(), True), \\\n",
    "    StructField(\"departure_time\",           IntegerType(), True), \\\n",
    "    StructField(\"scheduled_departure_time\", IntegerType(), True), \\\n",
    "    StructField(\"arrival_time\",             IntegerType(), True), \\\n",
    "    StructField(\"scheduled_arrival_time\",   IntegerType(), True), \\\n",
    "    StructField(\"carrier\",                  StringType(),  True), \\\n",
    "    StructField(\"flight_number\",            StringType(),  True), \\\n",
    "    StructField(\"tail_number\",              StringType(), True), \\\n",
    "    StructField(\"actual_elapsed_time\",      IntegerType(), True), \\\n",
    "    StructField(\"scheduled_elapsed_time\",   IntegerType(), True), \\\n",
    "    StructField(\"air_time\",                 IntegerType(), True), \\\n",
    "    StructField(\"arrival_delay\",            IntegerType(), True), \\\n",
    "    StructField(\"departure_delay\",          IntegerType(), True), \\\n",
    "    StructField(\"src_airport\",              StringType(),  True), \\\n",
    "    StructField(\"dest_airport\",             StringType(),  True), \\\n",
    "    StructField(\"distance\",                 IntegerType(), True), \\\n",
    "    StructField(\"taxi_in_time\",             IntegerType(), True), \\\n",
    "    StructField(\"taxi_out_time\",            IntegerType(), True), \\\n",
    "    StructField(\"cancelled\",                StringType(),  True), \\\n",
    "    StructField(\"cancellation_code\",        StringType(),  True), \\\n",
    "    StructField(\"diverted\",                 StringType(),  True), \\\n",
    "    StructField(\"carrier_delay\",            IntegerType(), True), \\\n",
    "    StructField(\"weather_delay\",            IntegerType(), True), \\\n",
    "    StructField(\"nas_delay\",                IntegerType(), True), \\\n",
    "    StructField(\"security_delay\",           IntegerType(), True), \\\n",
    "    StructField(\"late_aircraft_delay\",      IntegerType(), True)\\\n",
    "])"
   ]
  },
  {
   "cell_type": "markdown",
   "metadata": {},
   "source": [
    "To \"convert\" an RDD to DataFrame, each element in the RDD must be a list of column values that match the data schema."
   ]
  },
  {
   "cell_type": "code",
   "execution_count": 7,
   "metadata": {
    "collapsed": false
   },
   "outputs": [],
   "source": [
    "# convert each line into a tuple of features (columns)\n",
    "cleaned_data_to_columns = cleaned_data.map(lambda l: l.split(\",\"))\\\n",
    "    .map(lambda cols: \n",
    "         (\n",
    "            int(cols[0])  if cols[0] else None,\n",
    "            int(cols[1])  if cols[1] else None,\n",
    "            int(cols[2])  if cols[2] else None,\n",
    "            int(cols[3])  if cols[3] else None,\n",
    "            int(cols[4])  if cols[4] else None,\n",
    "            int(cols[5])  if cols[5] else None,\n",
    "            int(cols[6])  if cols[6] else None,\n",
    "            int(cols[7])  if cols[7] else None,\n",
    "            cols[8]       if cols[8] else None,\n",
    "            cols[9]       if cols[9] else None,\n",
    "            cols[10]      if cols[10] else None,\n",
    "            int(cols[11]) if cols[11] else None,\n",
    "            int(cols[12]) if cols[12] else None,\n",
    "            int(cols[13]) if cols[13] else None,\n",
    "            int(cols[14]) if cols[14] else None,\n",
    "            int(cols[15]) if cols[15] else None,\n",
    "            cols[16]      if cols[16] else None,\n",
    "            cols[17]      if cols[17] else None,\n",
    "            int(cols[18]) if cols[18] else None,\n",
    "            int(cols[19]) if cols[19] else None,\n",
    "            int(cols[20]) if cols[20] else None,\n",
    "            cols[21]      if cols[21] else None,\n",
    "            cols[22]      if cols[22] else None,\n",
    "            cols[23]      if cols[23] else None,\n",
    "            int(cols[24]) if cols[24] else None,\n",
    "            int(cols[25]) if cols[25] else None,\n",
    "            int(cols[26]) if cols[26] else None,\n",
    "            int(cols[27]) if cols[27] else None,\n",
    "            int(cols[28]) if cols[28] else None\n",
    "         ))"
   ]
  },
  {
   "cell_type": "markdown",
   "metadata": {},
   "source": [
    "To train our model, we use the following features: `year`, `month`, `day_of_month`, `day_of_week`, `scheduled_departure_time`, `scheduled_arrival_time`, `arrival_delay`, `distance`, `src_airport`, `dest_airport`."
   ]
  },
  {
   "cell_type": "markdown",
   "metadata": {},
   "source": [
    "![](https://farm2.staticflickr.com/1604/24934700445_833f0a5649_t.jpg)"
   ]
  },
  {
   "cell_type": "markdown",
   "metadata": {},
   "source": [
    "<div class='anchor' ></div>\n",
    "### Question 2\n",
    "\n",
    "From RDD `cleaned_data_to_columns` and the schema `airline_data_schema` which are declared before, create a new DataFrame **`df`**.\n",
    "\n",
    "Note that, we should only select the necessary features defined above: [ year, month, day_of_month, day_of_week, scheduled_departure_time, scheduled_arrival_time, arrival_delay, distance, src_airport, dest_airport]. \n",
    "\n",
    "Finally, the data should be cached."
   ]
  },
  {
   "cell_type": "code",
   "execution_count": 8,
   "metadata": {
    "collapsed": true
   },
   "outputs": [],
   "source": [
    "\n",
    "# create dataframe df\n",
    "df = (sqlContext.createDataFrame(cleaned_data_to_columns,airline_data_schema)\n",
    "        .select('year', 'month', 'day_of_month', 'carrier','day_of_week', 'scheduled_departure_time', 'scheduled_arrival_time', 'arrival_delay', 'distance', 'src_airport',\\\n",
    "                'dest_airport')\n",
    "        .cache()\n",
    "    )\n"
   ]
  },
  {
   "cell_type": "markdown",
   "metadata": {
    "collapsed": true
   },
   "source": [
    "## 3.4 Descriptive statistics\n",
    "Next, we will go over a series of simple queries on our data, to explore it and compute statistics. These queries directly map to the questions you need to answer. \n",
    "\n",
    "**NOTE:** finding the right question to ask is difficult! Don't be afraid to complement the questions below, with your own questions that, in your opinion, are valuable ways to inspect data. This can give you extra points!\n",
    "\n",
    "- Basic queries:\n",
    "  - How many unique origin airports ?\n",
    "  - How many unique destination airports ?\n",
    "  - How many carriers ?\n",
    "  - How many flights that have a scheduled departure time later than 18h00 ?\n",
    "  \n",
    "- Statistic on flight volume: this kind of statistics are helpful to reason about delays. Indeed, it is plausible to assume that \"*the more flights in an airport, the higher the probability of delay*\".\n",
    "  - How many flights in each month of the year ?\n",
    "  - Is there any relationship between the number of flights and the days of week?\n",
    "  - How many flights in different days of months and in different hours of days ?\n",
    "  - Which are the top 20 busiest airports (this depends on inbound and outbound traffic) ?\n",
    "  - Which are the top 20 busiest carriers ?\n",
    "  \n",
    "- Statistic on the fraction of delayed flights\n",
    "  - What is the percentage of delayed flights (over total flights) for different hours of the day ?\n",
    "  - Which hours of the day are characterized by the longest flight delay ?\n",
    "  - What are the fluctuation of the percentage of delayed flights over different time granularities ?\n",
    "  - What is the percentage of delayed flights which depart from one of the top 20 busiest airports ?\n",
    "  - What is the percentage of delayed flights which belong to one of the top 20 busiest carriers ?"
   ]
  },
  {
   "cell_type": "markdown",
   "metadata": {},
   "source": [
    "![](https://farm2.staticflickr.com/1604/24934700445_833f0a5649_t.jpg)"
   ]
  },
  {
   "cell_type": "markdown",
   "metadata": {},
   "source": [
    "<div class='anchor' ></div>\n",
    "### Question 3: Basic queries\n",
    "\n",
    "#### Question 3.1 \n",
    "How many origin airports ? How many destination airports ?"
   ]
  },
  {
   "cell_type": "code",
   "execution_count": 8,
   "metadata": {
    "collapsed": false
   },
   "outputs": [
    {
     "name": "stdout",
     "output_type": "stream",
     "text": [
      "number of origin airports  224\n",
      "number of destination airports  224\n"
     ]
    }
   ],
   "source": [
    "\n",
    "num_src_airport = df.select('src_airport').distinct().count()\n",
    "num_dest_airport = df.select('dest_airport').distinct().count()\n",
    "print(\"number of origin airports \", num_src_airport)\n",
    "print(\"number of destination airports \", num_src_airport)\n"
   ]
  },
  {
   "cell_type": "code",
   "execution_count": 78,
   "metadata": {
    "collapsed": false
   },
   "outputs": [
    {
     "name": "stdout",
     "output_type": "stream",
     "text": [
      "[Row(scheduled_departure_time=1), Row(scheduled_departure_time=2), Row(scheduled_departure_time=4), Row(scheduled_departure_time=5), Row(scheduled_departure_time=6), Row(scheduled_departure_time=7), Row(scheduled_departure_time=10), Row(scheduled_departure_time=11), Row(scheduled_departure_time=12), Row(scheduled_departure_time=15), Row(scheduled_departure_time=19), Row(scheduled_departure_time=20), Row(scheduled_departure_time=21), Row(scheduled_departure_time=25), Row(scheduled_departure_time=26), Row(scheduled_departure_time=27), Row(scheduled_departure_time=29), Row(scheduled_departure_time=30), Row(scheduled_departure_time=31), Row(scheduled_departure_time=32), Row(scheduled_departure_time=33), Row(scheduled_departure_time=35), Row(scheduled_departure_time=36), Row(scheduled_departure_time=37), Row(scheduled_departure_time=38), Row(scheduled_departure_time=39), Row(scheduled_departure_time=40), Row(scheduled_departure_time=41), Row(scheduled_departure_time=42), Row(scheduled_departure_time=43), Row(scheduled_departure_time=44), Row(scheduled_departure_time=45), Row(scheduled_departure_time=46), Row(scheduled_departure_time=49), Row(scheduled_departure_time=50), Row(scheduled_departure_time=52), Row(scheduled_departure_time=55), Row(scheduled_departure_time=59), Row(scheduled_departure_time=100), Row(scheduled_departure_time=101), Row(scheduled_departure_time=104), Row(scheduled_departure_time=105), Row(scheduled_departure_time=106), Row(scheduled_departure_time=108), Row(scheduled_departure_time=110), Row(scheduled_departure_time=111), Row(scheduled_departure_time=115), Row(scheduled_departure_time=119), Row(scheduled_departure_time=120), Row(scheduled_departure_time=122), Row(scheduled_departure_time=125), Row(scheduled_departure_time=130), Row(scheduled_departure_time=133), Row(scheduled_departure_time=135), Row(scheduled_departure_time=137), Row(scheduled_departure_time=138), Row(scheduled_departure_time=139), Row(scheduled_departure_time=140), Row(scheduled_departure_time=141), Row(scheduled_departure_time=142), Row(scheduled_departure_time=143), Row(scheduled_departure_time=145), Row(scheduled_departure_time=150), Row(scheduled_departure_time=155), Row(scheduled_departure_time=156), Row(scheduled_departure_time=159), Row(scheduled_departure_time=200), Row(scheduled_departure_time=201), Row(scheduled_departure_time=205), Row(scheduled_departure_time=215), Row(scheduled_departure_time=220), Row(scheduled_departure_time=222), Row(scheduled_departure_time=225), Row(scheduled_departure_time=230), Row(scheduled_departure_time=235), Row(scheduled_departure_time=240), Row(scheduled_departure_time=245), Row(scheduled_departure_time=250), Row(scheduled_departure_time=255), Row(scheduled_departure_time=300), Row(scheduled_departure_time=325), Row(scheduled_departure_time=330), Row(scheduled_departure_time=400), Row(scheduled_departure_time=425), Row(scheduled_departure_time=449), Row(scheduled_departure_time=450), Row(scheduled_departure_time=451), Row(scheduled_departure_time=453), Row(scheduled_departure_time=454), Row(scheduled_departure_time=500), Row(scheduled_departure_time=501), Row(scheduled_departure_time=502), Row(scheduled_departure_time=503), Row(scheduled_departure_time=504), Row(scheduled_departure_time=505), Row(scheduled_departure_time=506), Row(scheduled_departure_time=510), Row(scheduled_departure_time=520), Row(scheduled_departure_time=530), Row(scheduled_departure_time=532), Row(scheduled_departure_time=535), Row(scheduled_departure_time=540), Row(scheduled_departure_time=543), Row(scheduled_departure_time=544), Row(scheduled_departure_time=545), Row(scheduled_departure_time=546), Row(scheduled_departure_time=547), Row(scheduled_departure_time=548), Row(scheduled_departure_time=549), Row(scheduled_departure_time=550), Row(scheduled_departure_time=551), Row(scheduled_departure_time=552), Row(scheduled_departure_time=553), Row(scheduled_departure_time=554), Row(scheduled_departure_time=555), Row(scheduled_departure_time=556), Row(scheduled_departure_time=557), Row(scheduled_departure_time=559), Row(scheduled_departure_time=600), Row(scheduled_departure_time=601), Row(scheduled_departure_time=602), Row(scheduled_departure_time=603), Row(scheduled_departure_time=604), Row(scheduled_departure_time=605), Row(scheduled_departure_time=606), Row(scheduled_departure_time=607), Row(scheduled_departure_time=608), Row(scheduled_departure_time=609), Row(scheduled_departure_time=610), Row(scheduled_departure_time=611), Row(scheduled_departure_time=612), Row(scheduled_departure_time=613), Row(scheduled_departure_time=614), Row(scheduled_departure_time=615), Row(scheduled_departure_time=616), Row(scheduled_departure_time=617), Row(scheduled_departure_time=618), Row(scheduled_departure_time=619), Row(scheduled_departure_time=620), Row(scheduled_departure_time=621), Row(scheduled_departure_time=622), Row(scheduled_departure_time=623), Row(scheduled_departure_time=624), Row(scheduled_departure_time=625), Row(scheduled_departure_time=626), Row(scheduled_departure_time=627), Row(scheduled_departure_time=628), Row(scheduled_departure_time=629), Row(scheduled_departure_time=630), Row(scheduled_departure_time=631), Row(scheduled_departure_time=632), Row(scheduled_departure_time=633), Row(scheduled_departure_time=634), Row(scheduled_departure_time=635), Row(scheduled_departure_time=636), Row(scheduled_departure_time=637), Row(scheduled_departure_time=638), Row(scheduled_departure_time=639), Row(scheduled_departure_time=640), Row(scheduled_departure_time=641), Row(scheduled_departure_time=642), Row(scheduled_departure_time=643), Row(scheduled_departure_time=644), Row(scheduled_departure_time=645), Row(scheduled_departure_time=646), Row(scheduled_departure_time=647), Row(scheduled_departure_time=648), Row(scheduled_departure_time=649), Row(scheduled_departure_time=650), Row(scheduled_departure_time=651), Row(scheduled_departure_time=652), Row(scheduled_departure_time=653), Row(scheduled_departure_time=654), Row(scheduled_departure_time=655), Row(scheduled_departure_time=656), Row(scheduled_departure_time=657), Row(scheduled_departure_time=658), Row(scheduled_departure_time=659), Row(scheduled_departure_time=700), Row(scheduled_departure_time=701), Row(scheduled_departure_time=702), Row(scheduled_departure_time=703), Row(scheduled_departure_time=704), Row(scheduled_departure_time=705), Row(scheduled_departure_time=706), Row(scheduled_departure_time=707), Row(scheduled_departure_time=708), Row(scheduled_departure_time=709), Row(scheduled_departure_time=710), Row(scheduled_departure_time=711), Row(scheduled_departure_time=712), Row(scheduled_departure_time=713), Row(scheduled_departure_time=714), Row(scheduled_departure_time=715), Row(scheduled_departure_time=716), Row(scheduled_departure_time=717), Row(scheduled_departure_time=718), Row(scheduled_departure_time=719), Row(scheduled_departure_time=720), Row(scheduled_departure_time=721), Row(scheduled_departure_time=722), Row(scheduled_departure_time=723), Row(scheduled_departure_time=724), Row(scheduled_departure_time=725), Row(scheduled_departure_time=726), Row(scheduled_departure_time=727), Row(scheduled_departure_time=728), Row(scheduled_departure_time=729), Row(scheduled_departure_time=730), Row(scheduled_departure_time=731), Row(scheduled_departure_time=732), Row(scheduled_departure_time=733), Row(scheduled_departure_time=734), Row(scheduled_departure_time=735), Row(scheduled_departure_time=736), Row(scheduled_departure_time=737), Row(scheduled_departure_time=738), Row(scheduled_departure_time=739), Row(scheduled_departure_time=740), Row(scheduled_departure_time=741), Row(scheduled_departure_time=742), Row(scheduled_departure_time=743), Row(scheduled_departure_time=744), Row(scheduled_departure_time=745), Row(scheduled_departure_time=746), Row(scheduled_departure_time=747), Row(scheduled_departure_time=748), Row(scheduled_departure_time=749), Row(scheduled_departure_time=750), Row(scheduled_departure_time=751), Row(scheduled_departure_time=752), Row(scheduled_departure_time=753), Row(scheduled_departure_time=754), Row(scheduled_departure_time=755), Row(scheduled_departure_time=756), Row(scheduled_departure_time=757), Row(scheduled_departure_time=758), Row(scheduled_departure_time=759), Row(scheduled_departure_time=800), Row(scheduled_departure_time=801), Row(scheduled_departure_time=802), Row(scheduled_departure_time=803), Row(scheduled_departure_time=804), Row(scheduled_departure_time=805), Row(scheduled_departure_time=806), Row(scheduled_departure_time=807), Row(scheduled_departure_time=808), Row(scheduled_departure_time=809), Row(scheduled_departure_time=810), Row(scheduled_departure_time=811), Row(scheduled_departure_time=812), Row(scheduled_departure_time=813), Row(scheduled_departure_time=814), Row(scheduled_departure_time=815), Row(scheduled_departure_time=816), Row(scheduled_departure_time=817), Row(scheduled_departure_time=818), Row(scheduled_departure_time=819), Row(scheduled_departure_time=820), Row(scheduled_departure_time=821), Row(scheduled_departure_time=822), Row(scheduled_departure_time=823), Row(scheduled_departure_time=824), Row(scheduled_departure_time=825), Row(scheduled_departure_time=826), Row(scheduled_departure_time=827), Row(scheduled_departure_time=828), Row(scheduled_departure_time=829), Row(scheduled_departure_time=830), Row(scheduled_departure_time=831), Row(scheduled_departure_time=832), Row(scheduled_departure_time=833), Row(scheduled_departure_time=834), Row(scheduled_departure_time=835), Row(scheduled_departure_time=836), Row(scheduled_departure_time=837), Row(scheduled_departure_time=838), Row(scheduled_departure_time=839), Row(scheduled_departure_time=840), Row(scheduled_departure_time=841), Row(scheduled_departure_time=842), Row(scheduled_departure_time=843), Row(scheduled_departure_time=844), Row(scheduled_departure_time=845), Row(scheduled_departure_time=846), Row(scheduled_departure_time=847), Row(scheduled_departure_time=848), Row(scheduled_departure_time=849), Row(scheduled_departure_time=850), Row(scheduled_departure_time=851), Row(scheduled_departure_time=852), Row(scheduled_departure_time=853), Row(scheduled_departure_time=854), Row(scheduled_departure_time=855), Row(scheduled_departure_time=856), Row(scheduled_departure_time=857), Row(scheduled_departure_time=858), Row(scheduled_departure_time=859), Row(scheduled_departure_time=900), Row(scheduled_departure_time=901), Row(scheduled_departure_time=902), Row(scheduled_departure_time=903), Row(scheduled_departure_time=904), Row(scheduled_departure_time=905), Row(scheduled_departure_time=906), Row(scheduled_departure_time=907), Row(scheduled_departure_time=908), Row(scheduled_departure_time=909), Row(scheduled_departure_time=910), Row(scheduled_departure_time=911), Row(scheduled_departure_time=912), Row(scheduled_departure_time=913), Row(scheduled_departure_time=914), Row(scheduled_departure_time=915), Row(scheduled_departure_time=916), Row(scheduled_departure_time=917), Row(scheduled_departure_time=918), Row(scheduled_departure_time=919), Row(scheduled_departure_time=920), Row(scheduled_departure_time=921), Row(scheduled_departure_time=922), Row(scheduled_departure_time=923), Row(scheduled_departure_time=924), Row(scheduled_departure_time=925), Row(scheduled_departure_time=926), Row(scheduled_departure_time=927), Row(scheduled_departure_time=928), Row(scheduled_departure_time=929), Row(scheduled_departure_time=930), Row(scheduled_departure_time=931), Row(scheduled_departure_time=932), Row(scheduled_departure_time=933), Row(scheduled_departure_time=934), Row(scheduled_departure_time=935), Row(scheduled_departure_time=936), Row(scheduled_departure_time=937), Row(scheduled_departure_time=938), Row(scheduled_departure_time=939), Row(scheduled_departure_time=940), Row(scheduled_departure_time=941), Row(scheduled_departure_time=942), Row(scheduled_departure_time=943), Row(scheduled_departure_time=944), Row(scheduled_departure_time=945), Row(scheduled_departure_time=946), Row(scheduled_departure_time=947), Row(scheduled_departure_time=948), Row(scheduled_departure_time=949), Row(scheduled_departure_time=950), Row(scheduled_departure_time=951), Row(scheduled_departure_time=952), Row(scheduled_departure_time=953), Row(scheduled_departure_time=954), Row(scheduled_departure_time=955), Row(scheduled_departure_time=956), Row(scheduled_departure_time=957), Row(scheduled_departure_time=958), Row(scheduled_departure_time=959), Row(scheduled_departure_time=1000), Row(scheduled_departure_time=1001), Row(scheduled_departure_time=1002), Row(scheduled_departure_time=1003), Row(scheduled_departure_time=1004), Row(scheduled_departure_time=1005), Row(scheduled_departure_time=1006), Row(scheduled_departure_time=1007), Row(scheduled_departure_time=1008), Row(scheduled_departure_time=1009), Row(scheduled_departure_time=1010), Row(scheduled_departure_time=1011), Row(scheduled_departure_time=1012), Row(scheduled_departure_time=1013), Row(scheduled_departure_time=1014), Row(scheduled_departure_time=1015), Row(scheduled_departure_time=1016), Row(scheduled_departure_time=1017), Row(scheduled_departure_time=1018), Row(scheduled_departure_time=1019), Row(scheduled_departure_time=1020), Row(scheduled_departure_time=1021), Row(scheduled_departure_time=1022), Row(scheduled_departure_time=1023), Row(scheduled_departure_time=1024), Row(scheduled_departure_time=1025), Row(scheduled_departure_time=1026), Row(scheduled_departure_time=1027), Row(scheduled_departure_time=1028), Row(scheduled_departure_time=1029), Row(scheduled_departure_time=1030), Row(scheduled_departure_time=1031), Row(scheduled_departure_time=1032), Row(scheduled_departure_time=1033), Row(scheduled_departure_time=1034), Row(scheduled_departure_time=1035), Row(scheduled_departure_time=1036), Row(scheduled_departure_time=1037), Row(scheduled_departure_time=1038), Row(scheduled_departure_time=1039), Row(scheduled_departure_time=1040), Row(scheduled_departure_time=1041), Row(scheduled_departure_time=1042), Row(scheduled_departure_time=1043), Row(scheduled_departure_time=1044), Row(scheduled_departure_time=1045), Row(scheduled_departure_time=1046), Row(scheduled_departure_time=1047), Row(scheduled_departure_time=1048), Row(scheduled_departure_time=1049), Row(scheduled_departure_time=1050), Row(scheduled_departure_time=1051), Row(scheduled_departure_time=1052), Row(scheduled_departure_time=1053), Row(scheduled_departure_time=1054), Row(scheduled_departure_time=1055), Row(scheduled_departure_time=1056), Row(scheduled_departure_time=1057), Row(scheduled_departure_time=1058), Row(scheduled_departure_time=1059), Row(scheduled_departure_time=1100), Row(scheduled_departure_time=1101), Row(scheduled_departure_time=1102), Row(scheduled_departure_time=1103), Row(scheduled_departure_time=1104), Row(scheduled_departure_time=1105), Row(scheduled_departure_time=1106), Row(scheduled_departure_time=1107), Row(scheduled_departure_time=1108), Row(scheduled_departure_time=1109), Row(scheduled_departure_time=1110), Row(scheduled_departure_time=1111), Row(scheduled_departure_time=1112), Row(scheduled_departure_time=1113), Row(scheduled_departure_time=1114), Row(scheduled_departure_time=1115), Row(scheduled_departure_time=1116), Row(scheduled_departure_time=1117), Row(scheduled_departure_time=1118), Row(scheduled_departure_time=1119), Row(scheduled_departure_time=1120), Row(scheduled_departure_time=1121), Row(scheduled_departure_time=1122), Row(scheduled_departure_time=1123), Row(scheduled_departure_time=1124), Row(scheduled_departure_time=1125), Row(scheduled_departure_time=1126), Row(scheduled_departure_time=1127), Row(scheduled_departure_time=1128), Row(scheduled_departure_time=1129), Row(scheduled_departure_time=1130), Row(scheduled_departure_time=1131), Row(scheduled_departure_time=1132), Row(scheduled_departure_time=1133), Row(scheduled_departure_time=1134), Row(scheduled_departure_time=1135), Row(scheduled_departure_time=1136), Row(scheduled_departure_time=1137), Row(scheduled_departure_time=1138), Row(scheduled_departure_time=1139), Row(scheduled_departure_time=1140), Row(scheduled_departure_time=1141), Row(scheduled_departure_time=1142), Row(scheduled_departure_time=1143), Row(scheduled_departure_time=1144), Row(scheduled_departure_time=1145), Row(scheduled_departure_time=1146), Row(scheduled_departure_time=1147), Row(scheduled_departure_time=1148), Row(scheduled_departure_time=1149), Row(scheduled_departure_time=1150), Row(scheduled_departure_time=1151), Row(scheduled_departure_time=1152), Row(scheduled_departure_time=1153), Row(scheduled_departure_time=1154), Row(scheduled_departure_time=1155), Row(scheduled_departure_time=1156), Row(scheduled_departure_time=1157), Row(scheduled_departure_time=1158), Row(scheduled_departure_time=1159), Row(scheduled_departure_time=1200), Row(scheduled_departure_time=1201), Row(scheduled_departure_time=1202), Row(scheduled_departure_time=1203), Row(scheduled_departure_time=1204), Row(scheduled_departure_time=1205), Row(scheduled_departure_time=1206), Row(scheduled_departure_time=1207), Row(scheduled_departure_time=1208), Row(scheduled_departure_time=1209), Row(scheduled_departure_time=1210), Row(scheduled_departure_time=1211), Row(scheduled_departure_time=1212), Row(scheduled_departure_time=1213), Row(scheduled_departure_time=1214), Row(scheduled_departure_time=1215), Row(scheduled_departure_time=1216), Row(scheduled_departure_time=1217), Row(scheduled_departure_time=1218), Row(scheduled_departure_time=1219), Row(scheduled_departure_time=1220), Row(scheduled_departure_time=1221), Row(scheduled_departure_time=1222), Row(scheduled_departure_time=1223), Row(scheduled_departure_time=1224), Row(scheduled_departure_time=1225), Row(scheduled_departure_time=1226), Row(scheduled_departure_time=1227), Row(scheduled_departure_time=1228), Row(scheduled_departure_time=1229), Row(scheduled_departure_time=1230), Row(scheduled_departure_time=1231), Row(scheduled_departure_time=1232), Row(scheduled_departure_time=1233), Row(scheduled_departure_time=1234), Row(scheduled_departure_time=1235), Row(scheduled_departure_time=1236), Row(scheduled_departure_time=1237), Row(scheduled_departure_time=1238), Row(scheduled_departure_time=1239), Row(scheduled_departure_time=1240), Row(scheduled_departure_time=1241), Row(scheduled_departure_time=1242), Row(scheduled_departure_time=1243), Row(scheduled_departure_time=1244), Row(scheduled_departure_time=1245), Row(scheduled_departure_time=1246), Row(scheduled_departure_time=1247), Row(scheduled_departure_time=1248), Row(scheduled_departure_time=1249), Row(scheduled_departure_time=1250), Row(scheduled_departure_time=1251), Row(scheduled_departure_time=1252), Row(scheduled_departure_time=1253), Row(scheduled_departure_time=1254), Row(scheduled_departure_time=1255), Row(scheduled_departure_time=1256), Row(scheduled_departure_time=1257), Row(scheduled_departure_time=1258), Row(scheduled_departure_time=1259), Row(scheduled_departure_time=1300), Row(scheduled_departure_time=1301), Row(scheduled_departure_time=1302), Row(scheduled_departure_time=1303), Row(scheduled_departure_time=1304), Row(scheduled_departure_time=1305), Row(scheduled_departure_time=1306), Row(scheduled_departure_time=1307), Row(scheduled_departure_time=1308), Row(scheduled_departure_time=1309), Row(scheduled_departure_time=1310), Row(scheduled_departure_time=1311), Row(scheduled_departure_time=1312), Row(scheduled_departure_time=1313), Row(scheduled_departure_time=1314), Row(scheduled_departure_time=1315), Row(scheduled_departure_time=1316), Row(scheduled_departure_time=1317), Row(scheduled_departure_time=1318), Row(scheduled_departure_time=1319), Row(scheduled_departure_time=1320), Row(scheduled_departure_time=1321), Row(scheduled_departure_time=1322), Row(scheduled_departure_time=1323), Row(scheduled_departure_time=1324), Row(scheduled_departure_time=1325), Row(scheduled_departure_time=1326), Row(scheduled_departure_time=1327), Row(scheduled_departure_time=1328), Row(scheduled_departure_time=1329), Row(scheduled_departure_time=1330), Row(scheduled_departure_time=1331), Row(scheduled_departure_time=1332), Row(scheduled_departure_time=1333), Row(scheduled_departure_time=1334), Row(scheduled_departure_time=1335), Row(scheduled_departure_time=1336), Row(scheduled_departure_time=1337), Row(scheduled_departure_time=1338), Row(scheduled_departure_time=1339), Row(scheduled_departure_time=1340), Row(scheduled_departure_time=1341), Row(scheduled_departure_time=1342), Row(scheduled_departure_time=1343), Row(scheduled_departure_time=1344), Row(scheduled_departure_time=1345), Row(scheduled_departure_time=1346), Row(scheduled_departure_time=1347), Row(scheduled_departure_time=1348), Row(scheduled_departure_time=1349), Row(scheduled_departure_time=1350), Row(scheduled_departure_time=1351), Row(scheduled_departure_time=1352), Row(scheduled_departure_time=1353), Row(scheduled_departure_time=1354), Row(scheduled_departure_time=1355), Row(scheduled_departure_time=1356), Row(scheduled_departure_time=1357), Row(scheduled_departure_time=1358), Row(scheduled_departure_time=1359), Row(scheduled_departure_time=1400), Row(scheduled_departure_time=1401), Row(scheduled_departure_time=1402), Row(scheduled_departure_time=1403), Row(scheduled_departure_time=1404), Row(scheduled_departure_time=1405), Row(scheduled_departure_time=1406), Row(scheduled_departure_time=1407), Row(scheduled_departure_time=1408), Row(scheduled_departure_time=1409), Row(scheduled_departure_time=1410), Row(scheduled_departure_time=1411), Row(scheduled_departure_time=1412), Row(scheduled_departure_time=1413), Row(scheduled_departure_time=1414), Row(scheduled_departure_time=1415), Row(scheduled_departure_time=1416), Row(scheduled_departure_time=1417), Row(scheduled_departure_time=1418), Row(scheduled_departure_time=1419), Row(scheduled_departure_time=1420), Row(scheduled_departure_time=1421), Row(scheduled_departure_time=1422), Row(scheduled_departure_time=1423), Row(scheduled_departure_time=1424), Row(scheduled_departure_time=1425), Row(scheduled_departure_time=1426), Row(scheduled_departure_time=1427), Row(scheduled_departure_time=1428), Row(scheduled_departure_time=1429), Row(scheduled_departure_time=1430), Row(scheduled_departure_time=1431), Row(scheduled_departure_time=1432), Row(scheduled_departure_time=1433), Row(scheduled_departure_time=1434), Row(scheduled_departure_time=1435), Row(scheduled_departure_time=1436), Row(scheduled_departure_time=1437), Row(scheduled_departure_time=1438), Row(scheduled_departure_time=1439), Row(scheduled_departure_time=1440), Row(scheduled_departure_time=1441), Row(scheduled_departure_time=1442), Row(scheduled_departure_time=1443), Row(scheduled_departure_time=1444), Row(scheduled_departure_time=1445), Row(scheduled_departure_time=1446), Row(scheduled_departure_time=1447), Row(scheduled_departure_time=1448), Row(scheduled_departure_time=1449), Row(scheduled_departure_time=1450), Row(scheduled_departure_time=1451), Row(scheduled_departure_time=1452), Row(scheduled_departure_time=1453), Row(scheduled_departure_time=1454), Row(scheduled_departure_time=1455), Row(scheduled_departure_time=1456), Row(scheduled_departure_time=1457), Row(scheduled_departure_time=1458), Row(scheduled_departure_time=1459), Row(scheduled_departure_time=1500), Row(scheduled_departure_time=1501), Row(scheduled_departure_time=1502), Row(scheduled_departure_time=1503), Row(scheduled_departure_time=1504), Row(scheduled_departure_time=1505), Row(scheduled_departure_time=1506), Row(scheduled_departure_time=1507), Row(scheduled_departure_time=1508), Row(scheduled_departure_time=1509), Row(scheduled_departure_time=1510), Row(scheduled_departure_time=1511), Row(scheduled_departure_time=1512), Row(scheduled_departure_time=1513), Row(scheduled_departure_time=1514), Row(scheduled_departure_time=1515), Row(scheduled_departure_time=1516), Row(scheduled_departure_time=1517), Row(scheduled_departure_time=1518), Row(scheduled_departure_time=1519), Row(scheduled_departure_time=1520), Row(scheduled_departure_time=1521), Row(scheduled_departure_time=1522), Row(scheduled_departure_time=1523), Row(scheduled_departure_time=1524), Row(scheduled_departure_time=1525), Row(scheduled_departure_time=1526), Row(scheduled_departure_time=1527), Row(scheduled_departure_time=1528), Row(scheduled_departure_time=1529), Row(scheduled_departure_time=1530), Row(scheduled_departure_time=1531), Row(scheduled_departure_time=1532), Row(scheduled_departure_time=1533), Row(scheduled_departure_time=1534), Row(scheduled_departure_time=1535), Row(scheduled_departure_time=1536), Row(scheduled_departure_time=1537), Row(scheduled_departure_time=1538), Row(scheduled_departure_time=1539), Row(scheduled_departure_time=1540), Row(scheduled_departure_time=1541), Row(scheduled_departure_time=1542), Row(scheduled_departure_time=1543), Row(scheduled_departure_time=1544), Row(scheduled_departure_time=1545), Row(scheduled_departure_time=1546), Row(scheduled_departure_time=1547), Row(scheduled_departure_time=1548), Row(scheduled_departure_time=1549), Row(scheduled_departure_time=1550), Row(scheduled_departure_time=1551), Row(scheduled_departure_time=1552), Row(scheduled_departure_time=1553), Row(scheduled_departure_time=1554), Row(scheduled_departure_time=1555), Row(scheduled_departure_time=1556), Row(scheduled_departure_time=1557), Row(scheduled_departure_time=1558), Row(scheduled_departure_time=1559), Row(scheduled_departure_time=1600), Row(scheduled_departure_time=1601), Row(scheduled_departure_time=1602), Row(scheduled_departure_time=1603), Row(scheduled_departure_time=1604), Row(scheduled_departure_time=1605), Row(scheduled_departure_time=1606), Row(scheduled_departure_time=1607), Row(scheduled_departure_time=1608), Row(scheduled_departure_time=1609), Row(scheduled_departure_time=1610), Row(scheduled_departure_time=1611), Row(scheduled_departure_time=1612), Row(scheduled_departure_time=1613), Row(scheduled_departure_time=1614), Row(scheduled_departure_time=1615), Row(scheduled_departure_time=1616), Row(scheduled_departure_time=1617), Row(scheduled_departure_time=1618), Row(scheduled_departure_time=1619), Row(scheduled_departure_time=1620), Row(scheduled_departure_time=1621), Row(scheduled_departure_time=1622), Row(scheduled_departure_time=1623), Row(scheduled_departure_time=1624), Row(scheduled_departure_time=1625), Row(scheduled_departure_time=1626), Row(scheduled_departure_time=1627), Row(scheduled_departure_time=1628), Row(scheduled_departure_time=1629), Row(scheduled_departure_time=1630), Row(scheduled_departure_time=1631), Row(scheduled_departure_time=1632), Row(scheduled_departure_time=1633), Row(scheduled_departure_time=1634), Row(scheduled_departure_time=1635), Row(scheduled_departure_time=1636), Row(scheduled_departure_time=1637), Row(scheduled_departure_time=1638), Row(scheduled_departure_time=1639), Row(scheduled_departure_time=1640), Row(scheduled_departure_time=1641), Row(scheduled_departure_time=1642), Row(scheduled_departure_time=1643), Row(scheduled_departure_time=1644), Row(scheduled_departure_time=1645), Row(scheduled_departure_time=1646), Row(scheduled_departure_time=1647), Row(scheduled_departure_time=1648), Row(scheduled_departure_time=1649), Row(scheduled_departure_time=1650), Row(scheduled_departure_time=1651), Row(scheduled_departure_time=1652), Row(scheduled_departure_time=1653), Row(scheduled_departure_time=1654), Row(scheduled_departure_time=1655), Row(scheduled_departure_time=1656), Row(scheduled_departure_time=1657), Row(scheduled_departure_time=1658), Row(scheduled_departure_time=1659), Row(scheduled_departure_time=1700), Row(scheduled_departure_time=1701), Row(scheduled_departure_time=1702), Row(scheduled_departure_time=1703), Row(scheduled_departure_time=1704), Row(scheduled_departure_time=1705), Row(scheduled_departure_time=1706), Row(scheduled_departure_time=1707), Row(scheduled_departure_time=1708), Row(scheduled_departure_time=1709), Row(scheduled_departure_time=1710), Row(scheduled_departure_time=1711), Row(scheduled_departure_time=1712), Row(scheduled_departure_time=1713), Row(scheduled_departure_time=1714), Row(scheduled_departure_time=1715), Row(scheduled_departure_time=1716), Row(scheduled_departure_time=1717), Row(scheduled_departure_time=1718), Row(scheduled_departure_time=1719), Row(scheduled_departure_time=1720), Row(scheduled_departure_time=1721), Row(scheduled_departure_time=1722), Row(scheduled_departure_time=1723), Row(scheduled_departure_time=1724), Row(scheduled_departure_time=1725), Row(scheduled_departure_time=1726), Row(scheduled_departure_time=1727), Row(scheduled_departure_time=1728), Row(scheduled_departure_time=1729), Row(scheduled_departure_time=1730), Row(scheduled_departure_time=1731), Row(scheduled_departure_time=1732), Row(scheduled_departure_time=1733), Row(scheduled_departure_time=1734), Row(scheduled_departure_time=1735), Row(scheduled_departure_time=1736), Row(scheduled_departure_time=1737), Row(scheduled_departure_time=1738), Row(scheduled_departure_time=1739), Row(scheduled_departure_time=1740), Row(scheduled_departure_time=1741), Row(scheduled_departure_time=1742), Row(scheduled_departure_time=1743), Row(scheduled_departure_time=1744), Row(scheduled_departure_time=1745), Row(scheduled_departure_time=1746), Row(scheduled_departure_time=1747), Row(scheduled_departure_time=1748), Row(scheduled_departure_time=1749), Row(scheduled_departure_time=1750), Row(scheduled_departure_time=1751), Row(scheduled_departure_time=1752), Row(scheduled_departure_time=1753), Row(scheduled_departure_time=1754), Row(scheduled_departure_time=1755), Row(scheduled_departure_time=1756), Row(scheduled_departure_time=1757), Row(scheduled_departure_time=1758), Row(scheduled_departure_time=1759), Row(scheduled_departure_time=1800), Row(scheduled_departure_time=1801), Row(scheduled_departure_time=1802), Row(scheduled_departure_time=1803), Row(scheduled_departure_time=1804), Row(scheduled_departure_time=1805), Row(scheduled_departure_time=1806), Row(scheduled_departure_time=1807), Row(scheduled_departure_time=1808), Row(scheduled_departure_time=1809), Row(scheduled_departure_time=1810), Row(scheduled_departure_time=1811), Row(scheduled_departure_time=1812), Row(scheduled_departure_time=1813), Row(scheduled_departure_time=1814), Row(scheduled_departure_time=1815), Row(scheduled_departure_time=1816), Row(scheduled_departure_time=1817), Row(scheduled_departure_time=1818), Row(scheduled_departure_time=1819), Row(scheduled_departure_time=1820), Row(scheduled_departure_time=1821), Row(scheduled_departure_time=1822), Row(scheduled_departure_time=1823), Row(scheduled_departure_time=1824), Row(scheduled_departure_time=1825), Row(scheduled_departure_time=1826), Row(scheduled_departure_time=1827), Row(scheduled_departure_time=1828), Row(scheduled_departure_time=1829), Row(scheduled_departure_time=1830), Row(scheduled_departure_time=1831), Row(scheduled_departure_time=1832), Row(scheduled_departure_time=1833), Row(scheduled_departure_time=1834), Row(scheduled_departure_time=1835), Row(scheduled_departure_time=1836), Row(scheduled_departure_time=1837), Row(scheduled_departure_time=1838), Row(scheduled_departure_time=1839), Row(scheduled_departure_time=1840), Row(scheduled_departure_time=1841), Row(scheduled_departure_time=1842), Row(scheduled_departure_time=1843), Row(scheduled_departure_time=1844), Row(scheduled_departure_time=1845), Row(scheduled_departure_time=1846), Row(scheduled_departure_time=1847), Row(scheduled_departure_time=1848), Row(scheduled_departure_time=1849), Row(scheduled_departure_time=1850), Row(scheduled_departure_time=1851), Row(scheduled_departure_time=1852), Row(scheduled_departure_time=1853), Row(scheduled_departure_time=1854), Row(scheduled_departure_time=1855), Row(scheduled_departure_time=1856), Row(scheduled_departure_time=1857), Row(scheduled_departure_time=1858), Row(scheduled_departure_time=1859), Row(scheduled_departure_time=1900), Row(scheduled_departure_time=1901), Row(scheduled_departure_time=1902), Row(scheduled_departure_time=1903), Row(scheduled_departure_time=1904), Row(scheduled_departure_time=1905), Row(scheduled_departure_time=1906), Row(scheduled_departure_time=1907), Row(scheduled_departure_time=1908), Row(scheduled_departure_time=1909), Row(scheduled_departure_time=1910), Row(scheduled_departure_time=1911), Row(scheduled_departure_time=1912), Row(scheduled_departure_time=1913), Row(scheduled_departure_time=1914), Row(scheduled_departure_time=1915), Row(scheduled_departure_time=1916), Row(scheduled_departure_time=1917), Row(scheduled_departure_time=1918), Row(scheduled_departure_time=1919), Row(scheduled_departure_time=1920), Row(scheduled_departure_time=1921), Row(scheduled_departure_time=1922), Row(scheduled_departure_time=1923), Row(scheduled_departure_time=1924), Row(scheduled_departure_time=1925), Row(scheduled_departure_time=1926), Row(scheduled_departure_time=1927), Row(scheduled_departure_time=1928), Row(scheduled_departure_time=1929), Row(scheduled_departure_time=1930), Row(scheduled_departure_time=1931), Row(scheduled_departure_time=1932), Row(scheduled_departure_time=1933), Row(scheduled_departure_time=1934), Row(scheduled_departure_time=1935), Row(scheduled_departure_time=1936), Row(scheduled_departure_time=1937), Row(scheduled_departure_time=1938), Row(scheduled_departure_time=1939), Row(scheduled_departure_time=1940), Row(scheduled_departure_time=1941), Row(scheduled_departure_time=1942), Row(scheduled_departure_time=1943), Row(scheduled_departure_time=1944), Row(scheduled_departure_time=1945), Row(scheduled_departure_time=1946), Row(scheduled_departure_time=1947), Row(scheduled_departure_time=1948), Row(scheduled_departure_time=1949), Row(scheduled_departure_time=1950), Row(scheduled_departure_time=1951), Row(scheduled_departure_time=1952), Row(scheduled_departure_time=1953), Row(scheduled_departure_time=1954), Row(scheduled_departure_time=1955), Row(scheduled_departure_time=1956), Row(scheduled_departure_time=1957), Row(scheduled_departure_time=1958), Row(scheduled_departure_time=1959), Row(scheduled_departure_time=2000), Row(scheduled_departure_time=2001), Row(scheduled_departure_time=2002), Row(scheduled_departure_time=2003), Row(scheduled_departure_time=2004), Row(scheduled_departure_time=2005), Row(scheduled_departure_time=2006), Row(scheduled_departure_time=2007), Row(scheduled_departure_time=2008), Row(scheduled_departure_time=2009), Row(scheduled_departure_time=2010), Row(scheduled_departure_time=2011), Row(scheduled_departure_time=2012), Row(scheduled_departure_time=2013), Row(scheduled_departure_time=2014), Row(scheduled_departure_time=2015), Row(scheduled_departure_time=2016), Row(scheduled_departure_time=2017), Row(scheduled_departure_time=2018), Row(scheduled_departure_time=2019), Row(scheduled_departure_time=2020), Row(scheduled_departure_time=2021), Row(scheduled_departure_time=2022), Row(scheduled_departure_time=2023), Row(scheduled_departure_time=2024), Row(scheduled_departure_time=2025), Row(scheduled_departure_time=2026), Row(scheduled_departure_time=2027), Row(scheduled_departure_time=2028), Row(scheduled_departure_time=2029), Row(scheduled_departure_time=2030), Row(scheduled_departure_time=2031), Row(scheduled_departure_time=2032), Row(scheduled_departure_time=2033), Row(scheduled_departure_time=2034), Row(scheduled_departure_time=2035), Row(scheduled_departure_time=2036), Row(scheduled_departure_time=2038), Row(scheduled_departure_time=2039), Row(scheduled_departure_time=2040), Row(scheduled_departure_time=2041), Row(scheduled_departure_time=2042), Row(scheduled_departure_time=2043), Row(scheduled_departure_time=2044), Row(scheduled_departure_time=2045), Row(scheduled_departure_time=2046), Row(scheduled_departure_time=2047), Row(scheduled_departure_time=2048), Row(scheduled_departure_time=2049), Row(scheduled_departure_time=2050), Row(scheduled_departure_time=2051), Row(scheduled_departure_time=2052), Row(scheduled_departure_time=2053), Row(scheduled_departure_time=2054), Row(scheduled_departure_time=2055), Row(scheduled_departure_time=2056), Row(scheduled_departure_time=2057), Row(scheduled_departure_time=2058), Row(scheduled_departure_time=2059), Row(scheduled_departure_time=2100), Row(scheduled_departure_time=2101), Row(scheduled_departure_time=2102), Row(scheduled_departure_time=2103), Row(scheduled_departure_time=2104), Row(scheduled_departure_time=2105), Row(scheduled_departure_time=2106), Row(scheduled_departure_time=2107), Row(scheduled_departure_time=2108), Row(scheduled_departure_time=2109), Row(scheduled_departure_time=2110), Row(scheduled_departure_time=2111), Row(scheduled_departure_time=2112), Row(scheduled_departure_time=2113), Row(scheduled_departure_time=2114), Row(scheduled_departure_time=2115), Row(scheduled_departure_time=2116), Row(scheduled_departure_time=2117), Row(scheduled_departure_time=2118), Row(scheduled_departure_time=2119), Row(scheduled_departure_time=2120), Row(scheduled_departure_time=2121), Row(scheduled_departure_time=2122), Row(scheduled_departure_time=2123), Row(scheduled_departure_time=2124), Row(scheduled_departure_time=2125), Row(scheduled_departure_time=2126), Row(scheduled_departure_time=2127), Row(scheduled_departure_time=2128), Row(scheduled_departure_time=2129), Row(scheduled_departure_time=2130), Row(scheduled_departure_time=2131), Row(scheduled_departure_time=2132), Row(scheduled_departure_time=2133), Row(scheduled_departure_time=2134), Row(scheduled_departure_time=2135), Row(scheduled_departure_time=2136), Row(scheduled_departure_time=2137), Row(scheduled_departure_time=2138), Row(scheduled_departure_time=2139), Row(scheduled_departure_time=2140), Row(scheduled_departure_time=2141), Row(scheduled_departure_time=2142), Row(scheduled_departure_time=2143), Row(scheduled_departure_time=2144), Row(scheduled_departure_time=2145), Row(scheduled_departure_time=2146), Row(scheduled_departure_time=2147), Row(scheduled_departure_time=2148), Row(scheduled_departure_time=2149), Row(scheduled_departure_time=2150), Row(scheduled_departure_time=2151), Row(scheduled_departure_time=2152), Row(scheduled_departure_time=2153), Row(scheduled_departure_time=2154), Row(scheduled_departure_time=2155), Row(scheduled_departure_time=2156), Row(scheduled_departure_time=2157), Row(scheduled_departure_time=2158), Row(scheduled_departure_time=2159), Row(scheduled_departure_time=2200), Row(scheduled_departure_time=2201), Row(scheduled_departure_time=2202), Row(scheduled_departure_time=2203), Row(scheduled_departure_time=2204), Row(scheduled_departure_time=2205), Row(scheduled_departure_time=2206), Row(scheduled_departure_time=2207), Row(scheduled_departure_time=2210), Row(scheduled_departure_time=2211), Row(scheduled_departure_time=2212), Row(scheduled_departure_time=2214), Row(scheduled_departure_time=2215), Row(scheduled_departure_time=2216), Row(scheduled_departure_time=2218), Row(scheduled_departure_time=2220), Row(scheduled_departure_time=2221), Row(scheduled_departure_time=2224), Row(scheduled_departure_time=2225), Row(scheduled_departure_time=2229), Row(scheduled_departure_time=2230), Row(scheduled_departure_time=2233), Row(scheduled_departure_time=2235), Row(scheduled_departure_time=2240), Row(scheduled_departure_time=2241), Row(scheduled_departure_time=2242), Row(scheduled_departure_time=2243), Row(scheduled_departure_time=2244), Row(scheduled_departure_time=2245), Row(scheduled_departure_time=2246), Row(scheduled_departure_time=2247), Row(scheduled_departure_time=2248), Row(scheduled_departure_time=2249), Row(scheduled_departure_time=2250), Row(scheduled_departure_time=2251), Row(scheduled_departure_time=2252), Row(scheduled_departure_time=2253), Row(scheduled_departure_time=2254), Row(scheduled_departure_time=2255), Row(scheduled_departure_time=2256), Row(scheduled_departure_time=2257), Row(scheduled_departure_time=2258), Row(scheduled_departure_time=2259), Row(scheduled_departure_time=2300), Row(scheduled_departure_time=2301), Row(scheduled_departure_time=2302), Row(scheduled_departure_time=2303), Row(scheduled_departure_time=2304), Row(scheduled_departure_time=2305), Row(scheduled_departure_time=2306), Row(scheduled_departure_time=2307), Row(scheduled_departure_time=2308), Row(scheduled_departure_time=2309), Row(scheduled_departure_time=2310), Row(scheduled_departure_time=2311), Row(scheduled_departure_time=2312), Row(scheduled_departure_time=2313), Row(scheduled_departure_time=2314), Row(scheduled_departure_time=2315), Row(scheduled_departure_time=2316), Row(scheduled_departure_time=2318), Row(scheduled_departure_time=2320), Row(scheduled_departure_time=2322), Row(scheduled_departure_time=2323), Row(scheduled_departure_time=2324), Row(scheduled_departure_time=2325), Row(scheduled_departure_time=2326), Row(scheduled_departure_time=2327), Row(scheduled_departure_time=2328), Row(scheduled_departure_time=2329), Row(scheduled_departure_time=2330), Row(scheduled_departure_time=2332), Row(scheduled_departure_time=2335), Row(scheduled_departure_time=2337), Row(scheduled_departure_time=2340), Row(scheduled_departure_time=2344), Row(scheduled_departure_time=2345), Row(scheduled_departure_time=2350), Row(scheduled_departure_time=2352), Row(scheduled_departure_time=2354), Row(scheduled_departure_time=2355), Row(scheduled_departure_time=2356), Row(scheduled_departure_time=2357), Row(scheduled_departure_time=2359), Row(scheduled_departure_time=2400)]\n"
     ]
    }
   ],
   "source": [
    "num_src_airport = df.select('scheduled_departure_time').distinct().orderBy('scheduled_departure_time').collect()\n",
    "print(num_src_airport)"
   ]
  },
  {
   "cell_type": "markdown",
   "metadata": {},
   "source": [
    "<div class='anchor' ></div>\n",
    "#### Question 3.2\n",
    "How many carriers ?"
   ]
  },
  {
   "cell_type": "code",
   "execution_count": 9,
   "metadata": {
    "collapsed": false
   },
   "outputs": [
    {
     "name": "stdout",
     "output_type": "stream",
     "text": [
      "the number distinct carriers: 10\n"
     ]
    }
   ],
   "source": [
    "\n",
    "num_carrier = df.select('carrier').distinct().count()\n",
    "print(\"the number distinct carriers:\", num_carrier)\n"
   ]
  },
  {
   "cell_type": "markdown",
   "metadata": {},
   "source": [
    "<div class='anchor' ></div>\n",
    "#### Question 3.3\n",
    "How many night flights (that is, flights departing later than 6pm) ?"
   ]
  },
  {
   "cell_type": "code",
   "execution_count": 10,
   "metadata": {
    "collapsed": false
   },
   "outputs": [
    {
     "name": "stdout",
     "output_type": "stream",
     "text": [
      "the number of night flights: 1078203\n"
     ]
    }
   ],
   "source": [
    "\n",
    "print(\"the number of night flights:\", df[df.scheduled_departure_time > 1800].count())\n"
   ]
  },
  {
   "cell_type": "markdown",
   "metadata": {},
   "source": [
    "![](https://farm2.staticflickr.com/1604/24934700445_833f0a5649_t.jpg)"
   ]
  },
  {
   "cell_type": "markdown",
   "metadata": {},
   "source": [
    "<div class='anchor' ></div>\n",
    "### Question 4: Flight volume statistics\n",
    "\n",
    "#### Question 4.1: \n",
    "How many flights in each month of the year? Plot the changes over months by a line chart and comment the figure.\n",
    "From the result, we can learn the dynamics of flight volume over months. For example, if we only consider flights in 1994 (to start, it's always better to focus on smaller amount of data), we can discuss about which months are most likely to have flights experiencing delays."
   ]
  },
  {
   "cell_type": "code",
   "execution_count": 12,
   "metadata": {
    "collapsed": false
   },
   "outputs": [
    {
     "data": {
      "image/png": "[encoded data removed]",
      "text/plain": [
       "<matplotlib.figure.Figure at 0x7fc9f544a208>"
      ]
     },
     "metadata": {},
     "output_type": "display_data"
    }
   ],
   "source": [
    "\n",
    "statistic_month = df[df.year == 1994].groupBy(df.month).count().collect()\n",
    "\n",
    "#statistic_day_of_week.show()\n",
    "pdf = pd.DataFrame(data=statistic_month)\n",
    "#print(pdf)\n",
    "plt.xlabel(\"Months\")\n",
    "plt.ylabel(\"Number of flights\")\n",
    "plt.title('Figure 1: The change of number flights over months')\n",
    "plt.grid(True,which=\"both\",ls=\"-\")\n",
    "plt.plot(pdf[0],pdf[1])\n",
    "plt.show()\n"
   ]
  },
  {
   "cell_type": "code",
   "execution_count": 7,
   "metadata": {
    "collapsed": false
   },
   "outputs": [
    {
     "name": "stdout",
     "output_type": "stream",
     "text": [
      "1\n"
     ]
    }
   ],
   "source": [
    "a = df.select('year').distinct().count()\n",
    "print(a)"
   ]
  },
  {
   "cell_type": "markdown",
   "metadata": {},
   "source": [
    "<div class=\"comment\">\n",
    "We can notice that in february we have less travels. this sounds normal because people doesn't use to take holiday in that period. But in august, october and december we have a lot of travels probably for summer vacancies or christmas holidays.\n",
    "</div> "
   ]
  },
  {
   "cell_type": "markdown",
   "metadata": {},
   "source": [
    "<div class='anchor' ></div>\n",
    "#### Question 4.2: \n",
    "Is there any relationship between the number of flights and the days of the week? Plot a bar chart and interpret the figure.\n",
    "By answering this question we could learn about the importance of the weekend/weekday feature for our predictive task."
   ]
  },
  {
   "cell_type": "code",
   "execution_count": 31,
   "metadata": {
    "collapsed": false
   },
   "outputs": [
    {
     "name": "stdout",
     "output_type": "stream",
     "text": [
      "[Row(day_of_week=1, count=754636), Row(day_of_week=2, count=756532), Row(day_of_week=3, count=756864), Row(day_of_week=4, count=751537), Row(day_of_week=5, count=751531), Row(day_of_week=6, count=695245), Row(day_of_week=7, count=713703)]\n"
     ]
    },
    {
     "data": {
      "image/png": "[encoded data removed]",
      "text/plain": [
       "<matplotlib.figure.Figure at 0x7fbdd909f3c8>"
      ]
     },
     "metadata": {},
     "output_type": "display_data"
    }
   ],
   "source": [
    "statistic_day_of_week =df.groupBy(df.day_of_week).count().collect()\n",
    "print(statistic_day_of_week)\n",
    "pdf = pd.DataFrame(data = statistic_day_of_week)\n",
    "plt.xlabel(\"Days of week\")\n",
    "plt.ylabel(\"Number of flights\")\n",
    "plt.title('Figure 2: The change of number flights over days of week')\n",
    "plt.grid(True,which=\"both\",ls=\"-\")\n",
    "map_int_into_day = { 1:\"Mon\", 2:\"Tue\", 3:\"Wed\", 4:\"Thu\", 5:\"Fri\", 6:\"Sat\", 7:\"Sun\" }\n",
    "day_of_week_label = pdf[0].map(lambda i: map_int_into_day[i])\n",
    "\n",
    "# plot bar chart\n",
    "y_pos = range(1,len(pdf)+1)\n",
    "plt.bar(y_pos,pdf[1],align='center',alpha=0.4)\n",
    "\n",
    "plt.xticks(pdf[0], day_of_week_label)\n",
    "plt.show()\n"
   ]
  },
  {
   "cell_type": "markdown",
   "metadata": {},
   "source": [
    "<div class=\"comment\">\n",
    "the number of travels are balanced during the week and decrease during the week, maybe because people used to travel less during the weekends. So if we were ticket sellers, we would sell our ticket more expensive during the week and cheaper during the weekend.\n",
    "</div>"
   ]
  },
  {
   "cell_type": "markdown",
   "metadata": {},
   "source": [
    "<div class='anchor' ></div>\n",
    "#### Question 4.3\n",
    "How many flights in different days of months and in different hours of days ? Plot  bar charts, and interpret your figures."
   ]
  },
  {
   "cell_type": "code",
   "execution_count": 32,
   "metadata": {
    "collapsed": false
   },
   "outputs": [
    {
     "name": "stdout",
     "output_type": "stream",
     "text": [
      "[Row(day_of_month=1, count=169674), Row(day_of_month=2, count=169829), Row(day_of_month=3, count=168678), Row(day_of_month=4, count=169399), Row(day_of_month=5, count=168423), Row(day_of_month=6, count=170650), Row(day_of_month=7, count=172210), Row(day_of_month=8, count=170674), Row(day_of_month=9, count=170077), Row(day_of_month=10, count=170252), Row(day_of_month=11, count=172362), Row(day_of_month=12, count=169542), Row(day_of_month=13, count=171230), Row(day_of_month=14, count=172081), Row(day_of_month=15, count=170737), Row(day_of_month=16, count=169985), Row(day_of_month=17, count=170132), Row(day_of_month=18, count=171868), Row(day_of_month=19, count=169483), Row(day_of_month=20, count=171142), Row(day_of_month=21, count=172283), Row(day_of_month=22, count=171305), Row(day_of_month=23, count=170695), Row(day_of_month=24, count=166379), Row(day_of_month=25, count=167435), Row(day_of_month=26, count=168767), Row(day_of_month=27, count=171222), Row(day_of_month=28, count=171760), Row(day_of_month=29, count=155695), Row(day_of_month=30, count=155915), Row(day_of_month=31, count=100164)]\n"
     ]
    },
    {
     "data": {
      "image/png": "[encoded data removed]",
      "text/plain": [
       "<matplotlib.figure.Figure at 0x7fbdd909f4a8>"
      ]
     },
     "metadata": {},
     "output_type": "display_data"
    }
   ],
   "source": [
    "\n",
    "statistic_day_of_month = df.groupBy(df.day_of_month).count().collect()\n",
    "print(sorted(statistic_day_of_month))\n",
    "pdf = pd.DataFrame(data = sorted(statistic_day_of_month))\n",
    "plt.xlabel(\"Days of month\")\n",
    "plt.ylabel(\"Number of flights\")\n",
    "plt.title('Figure 3: The change of number flights over days of month')\n",
    "plt.grid(True,which=\"both\",ls=\"-\")\n",
    "#print(pdf)\n",
    "# plot bar chart\n",
    "y_pos = range(1,len(pdf)+1)\n",
    "plt.bar(y_pos,pdf[1],align='center',alpha=0.5)\n",
    "\n",
    "plt.xticks(pdf[0], range(1,32))\n",
    "plt.show()\n"
   ]
  },
  {
   "cell_type": "markdown",
   "metadata": {},
   "source": [
    "<div class=\"comment\">\n",
    "PUT YOUR COMMENT HERE !\n",
    "</div>"
   ]
  },
  {
   "cell_type": "code",
   "execution_count": 11,
   "metadata": {
    "collapsed": false
   },
   "outputs": [
    {
     "data": {
      "image/png": "[encoded data removed]",
      "text/plain": [
       "<matplotlib.figure.Figure at 0x7f30105342b0>"
      ]
     },
     "metadata": {},
     "output_type": "display_data"
    }
   ],
   "source": [
    "statistic_hour_of_day = df.groupBy(round(df.scheduled_departure_time/100, 0)).count().collect()\n",
    "pdf = pd.DataFrame(data = sorted(statistic_hour_of_day))\n",
    "plt.xlabel(\"hour of day\")\n",
    "plt.ylabel(\"Number of flights\")\n",
    "plt.title('Figure 3: The change of number flights over hours of day')\n",
    "plt.grid(True,which=\"both\",ls=\"-\")\n",
    "#print(pdf)'\n",
    "# plot bar chart\n",
    "y_pos = range(len(pdf))\n",
    "plt.bar(y_pos,pdf[1],align='center',alpha=0.4)\n",
    "\n",
    "plt.xticks(pdf[0], range(2359))\n",
    "plt.show()\n",
    "\n"
   ]
  },
  {
   "cell_type": "markdown",
   "metadata": {},
   "source": [
    "<div class=\"comment\">\n",
    "PUT YOUR COMMENT HERE !\n",
    "</div>"
   ]
  },
  {
   "cell_type": "markdown",
   "metadata": {},
   "source": [
    "<div class='anchor' ></div>\n",
    "#### Question 4.4\n",
    "Which are the top 20 busiest airports: compute this in terms of aggregate inbound and outbound number of flights ?"
   ]
  },
  {
   "cell_type": "code",
   "execution_count": 56,
   "metadata": {
    "collapsed": false
   },
   "outputs": [
    {
     "name": "stdout",
     "output_type": "stream",
     "text": [
      "+-----------+------+\n",
      "|src_airport| total|\n",
      "+-----------+------+\n",
      "|        ORD|561461|\n",
      "|        DFW|516523|\n",
      "|        ATL|443074|\n",
      "|        LAX|306453|\n",
      "|        STL|304409|\n",
      "|        DEN|285526|\n",
      "|        PHX|280560|\n",
      "|        DTW|276272|\n",
      "|        PIT|262939|\n",
      "|        CLT|259712|\n",
      "|        MSP|247980|\n",
      "|        SFO|235478|\n",
      "|        EWR|233991|\n",
      "|        IAH|208591|\n",
      "|        LGA|203362|\n",
      "|        BOS|199696|\n",
      "|        LAS|189920|\n",
      "|        PHL|186897|\n",
      "|        DCA|176115|\n",
      "|        MCO|153720|\n",
      "+-----------+------+\n",
      "only showing top 20 rows\n",
      "\n"
     ]
    }
   ],
   "source": [
    "\n",
    "# consider outbound flights\n",
    "stat_src = (df\n",
    "            .groupBy(df.src_airport)\n",
    "            .agg(func.count('*').alias('count1'))\n",
    "            )\n",
    "    \n",
    "# consider inbound flights\n",
    "stat_dest = (df\n",
    "             .groupBy(df.dest_airport)\n",
    "              .agg(func.count('*').alias('count2'))\n",
    "            )\n",
    "\n",
    "\n",
    "# full join the statistic of inbound flights and outbound flights\n",
    "stat_airports = stat_src.join(stat_dest,stat_src.src_airport==stat_dest.dest_airport,how='inner')\n",
    "#print(stat_airports)\n",
    "\n",
    "# TOP 20 BUSIEST AIRPORTS\n",
    "stat_airport_traffic = (stat_airports\n",
    "                            # define the new column `total` \n",
    "                            # which has values are equal to the sum of `count1` and `count2`\n",
    "                            .withColumn('total', stat_airports['count1'] + stat_airports['count2'])\n",
    "                            # select top airpoint in termns of number of flights\n",
    "                            .select(['src_airport','total']).orderBy(desc('total'))\n",
    "                        )\n",
    "stat_airport_traffic.show(20)\n",
    "\n"
   ]
  },
  {
   "cell_type": "markdown",
   "metadata": {},
   "source": [
    "<div class='anchor' ></div>\n",
    "#### Question 4.5\n",
    "Which are the top 20 busiest carriers: compute this in terms of number of flights? \n"
   ]
  },
  {
   "cell_type": "code",
   "execution_count": 60,
   "metadata": {
    "collapsed": false
   },
   "outputs": [
    {
     "name": "stdout",
     "output_type": "stream",
     "text": [
      "+-------+------+\n",
      "|carrier| count|\n",
      "+-------+------+\n",
      "|     DL|874526|\n",
      "|     US|857906|\n",
      "|     AA|722277|\n",
      "|     UA|638750|\n",
      "|     WN|565426|\n",
      "|     CO|484834|\n",
      "|     NW|482798|\n",
      "|     TW|258205|\n",
      "|     HP|177851|\n",
      "|     AS|117475|\n",
      "+-------+------+\n",
      "\n"
     ]
    }
   ],
   "source": [
    "\n",
    "stat_carrier = (df\n",
    "                .groupBy('carrier')\n",
    "                .agg(func.count('*').alias('count'))\n",
    "                .orderBy(desc('count'))\n",
    "                )\n",
    "\n",
    "stat_carrier.show(20)\n"
   ]
  },
  {
   "cell_type": "markdown",
   "metadata": {},
   "source": [
    "![](https://farm2.staticflickr.com/1604/24934700445_833f0a5649_t.jpg)"
   ]
  },
  {
   "cell_type": "markdown",
   "metadata": {},
   "source": [
    "<div class='anchor' ></div>\n",
    "### Question 5 \n",
    "Statistics on the percentage of delayed flights\n",
    "\n",
    "#### Question 5.1\n",
    "What is the percentage of delayed flights for different hours of the day? Plot a bar chart and interpret the figure.\n",
    "Remember: a flight is considered as delayed if it's actual arrival time is more than 15 minutes late than the scheduled arrival time."
   ]
  },
  {
   "cell_type": "code",
   "execution_count": 34,
   "metadata": {
    "collapsed": false
   },
   "outputs": [
    {
     "name": "stdout",
     "output_type": "stream",
     "text": [
      "           0   1\n",
      "0   0.172091   0\n",
      "1   0.148517   1\n",
      "2   0.105657   2\n",
      "3   0.020393   3\n",
      "4   0.020906   4\n",
      "5   0.064646   5\n",
      "6   0.074873   6\n",
      "7   0.103955   7\n",
      "8   0.131632   8\n",
      "9   0.144896   9\n",
      "10  0.136155  10\n",
      "11  0.146255  11\n",
      "12  0.155832  12\n",
      "13  0.168684  13\n",
      "14  0.170686  14\n",
      "15  0.193818  15\n",
      "16  0.209954  16\n",
      "17  0.226214  17\n",
      "18  0.223046  18\n",
      "19  0.229795  19\n",
      "20  0.221643  20\n",
      "21  0.198880  21\n",
      "22  0.198221  22\n",
      "23  0.183368  23\n",
      "24  0.180982  24\n"
     ]
    }
   ],
   "source": [
    "\n",
    "# create new column that marks whether the flights are delay\n",
    "df_with_delay = df.withColumn('is_delay', when(df['arrival_delay']>= 15 , 1).otherwise(0))\n",
    "\n",
    "# create a new column that indicates the scheduled departure time in hour \n",
    "# (ignore the part of minute)\n",
    "delay_per_hour = df_with_delay.withColumn('hour', round(df.scheduled_departure_time/100, 0))\n",
    "#print(delay_per_hour.collect())\n",
    "\n",
    "# group by year and hour\n",
    "statistic_delay_hour = delay_per_hour.groupBy('year','hour')\n",
    "\n",
    "# calculate the delay ratio and create a new column\n",
    "delay_ratio_per_hour = statistic_delay_hour.agg(\n",
    "    (func.sum('is_delay')/func.count('*')).alias('delay_ratio')\n",
    ")\n",
    "\n",
    "    \n",
    "# order the result by hour\n",
    "delay_ratio_per_hour = (\n",
    "            delay_ratio_per_hour\n",
    "                .orderBy('hour')\n",
    "                .select(['delay_ratio', 'hour' ]).collect()\n",
    "    )\n",
    "#print(delay_ratio_per_hour)\n",
    "pdf_delay_ratio_per_hour = pd.DataFrame(data = delay_ratio_per_hour)\n",
    "print(pdf_delay_ratio_per_hour)"
   ]
  },
  {
   "cell_type": "code",
   "execution_count": 8,
   "metadata": {
    "collapsed": false
   },
   "outputs": [
    {
     "data": {
      "image/png": "[encoded data removed]",
      "text/plain": [
       "<matplotlib.figure.Figure at 0x7f3012f6e630>"
      ]
     },
     "metadata": {},
     "output_type": "display_data"
    }
   ],
   "source": [
    "\n",
    "# plot a bar chart\n",
    "\n",
    "\n",
    "plt.xlabel(\"Hour\")\n",
    "plt.ylabel(\"delay ratio\")\n",
    "plt.title('Figure 4: The ratio of delay over hours in day')\n",
    "plt.grid(True,which=\"both\",ls=\"-\")\n",
    "delay_ratio = range(23)\n",
    "#delay_ratio_label = pdf_delay_ratio_per_hour[0].map(lambda i: delay_ratio[i])\n",
    "\n",
    "# plot bar chart\n",
    "y_pos = range(len(pdf_delay_ratio_per_hour))\n",
    "plt.bar(y_pos,pdf_delay_ratio_per_hour[0],align='center',alpha=0.4)\n",
    "\n",
    "plt.xticks(pdf_delay_ratio_per_hour[1], range(25))\n",
    "plt.show()\n",
    "\n"
   ]
  },
  {
   "cell_type": "markdown",
   "metadata": {},
   "source": [
    "<div class=\"comment\">\n",
    "PUT YOUR COMMENT HERE !\n",
    "</div>"
   ]
  },
  {
   "cell_type": "markdown",
   "metadata": {},
   "source": [
    "<div class='anchor' ></div>\n",
    "#### Question 5.2\n",
    "\n",
    "You will realize that saying \"at 4 A.M. there is a very low chance of a flight being delayed\" is not giving you a full picture of the situation. Indeed, it might be true that there is very little probability for a early flight to be delayed, but if it does, the delay might be huge, like 6 hours! \n",
    "\n",
    "Then, the question is: which hours of the day are characterized by the largest delay? Plot a Bar chart and explain it."
   ]
  },
  {
   "cell_type": "code",
   "execution_count": 22,
   "metadata": {
    "collapsed": false
   },
   "outputs": [
    {
     "data": {
      "image/png": "[encoded data removed]",
      "text/plain": [
       "<matplotlib.figure.Figure at 0x7f300b1be630>"
      ]
     },
     "metadata": {},
     "output_type": "display_data"
    }
   ],
   "source": [
    "\n",
    "mean_delay_per_hour = statistic_delay_hour.agg(\n",
    "    (func.mean('arrival_delay')).alias('mean_delay')\n",
    ")\n",
    "    \n",
    "mean_delay_per_hour = (\n",
    "    mean_delay_per_hour\n",
    "        .orderBy('hour')\n",
    "        .select(['hour','mean_delay']).collect()\n",
    "    )  \n",
    "pdf_mean_delay_per_hour = pd.DataFrame(data = mean_delay_per_hour)\n",
    "\n",
    "plt.xlabel(\"Hour\")\n",
    "plt.ylabel(\"mean delay\")\n",
    "plt.title('Figure 5: The delay over hours in day')\n",
    "plt.grid(True,which=\"both\",ls=\"-\")\n",
    "#delay_ratio_label = pdf_delay_ratio_per_hour[0].map(lambda i: delay_ratio[i])\n",
    "\n",
    "# plot bar chart\n",
    "y_pos = range(len(pdf_mean_delay_per_hour))\n",
    "plt.bar(y_pos,pdf_mean_delay_per_hour[1],align='center',alpha=0.4)\n",
    "\n",
    "plt.xticks(pdf_mean_delay_per_hour[0], range(25))\n",
    "plt.show()\n",
    "\n",
    "\n",
    "\n",
    "\n",
    "\n",
    "\n",
    "\n"
   ]
  },
  {
   "cell_type": "markdown",
   "metadata": {},
   "source": [
    "<div class=\"comment\">\n",
    "As we can see, the average quantity of delay has a trend very similar to the number of flights delayed. The hours with more flight delayed are also the hours with a bigger delay and, in the same way, the hour with less flight delayed have the least quantity of delay. Some of them have even a negative delay that should mean that they start in advance.  \n",
    "</div>"
   ]
  },
  {
   "cell_type": "markdown",
   "metadata": {},
   "source": [
    "With data of year 1994, the flight from 3AM to 4AM often depart earlier than in their schedule. The flights in the morning have less delay then in the afternoon and evening.\n",
    "\n",
    "So, an attentive student should notice here that we have somehow a problem with the definition of delay! Next, we will improve how to represent and visualize data to overcome this problem."
   ]
  },
  {
   "cell_type": "code",
   "execution_count": 24,
   "metadata": {
    "collapsed": false
   },
   "outputs": [
    {
     "data": {
      "image/png": "[encoded data removed]",
      "text/plain": [
       "<matplotlib.figure.Figure at 0x7f3012f6cf28>"
      ]
     },
     "metadata": {},
     "output_type": "display_data"
    }
   ],
   "source": [
    "#pdf2 = pd.DataFrame(data=mean_delay_per_hour.collect())\n",
    "plt.xlabel(\"Hours\")\n",
    "plt.ylabel(\"Ratio of delay\")\n",
    "plt.title('Figure 6: The radio of delay over hours in day')\n",
    "plt.grid(True,which=\"both\",ls=\"-\")\n",
    "bars = plt.bar( pdf_delay_ratio_per_hour[1],pdf_delay_ratio_per_hour[0], align='center', edgecolor = \"black\")\n",
    "for i in range(0, len(bars)):\n",
    "    color = 'red'\n",
    "    if pdf_mean_delay_per_hour[1][i] < 0:\n",
    "        color = 'lightgreen'\n",
    "    elif pdf_mean_delay_per_hour[1][i] < 2:\n",
    "        color = 'green'\n",
    "    elif pdf_mean_delay_per_hour[1][i] < 4:\n",
    "        color = 'yellow'\n",
    "    elif pdf_mean_delay_per_hour[1][i] < 8:\n",
    "        color = 'orange'\n",
    "\n",
    "    bars[i].set_color(color)\n",
    "        \n",
    "patch1 = mpatches.Patch(color='lightgreen', label='Depart earlier')\n",
    "patch2 = mpatches.Patch(color='green', label='delay < 2 minutes')\n",
    "patch3 = mpatches.Patch(color='yellow', label='delay < 4 minutes')\n",
    "patch4 = mpatches.Patch(color='orange', label='delay < 8 minutes')\n",
    "patch5 = mpatches.Patch(color='red', label='delay >= 8 minutes')\n",
    "\n",
    "plt.legend(handles=[patch1, patch2, patch3, patch4, patch5], bbox_to_anchor=(1.05, 1), loc=2, borderaxespad=0.)\n",
    "\n",
    "plt.show()"
   ]
  },
  {
   "cell_type": "markdown",
   "metadata": {},
   "source": [
    "In the new figure (Figure 6), we have more information in a single plot. The flights in 3AM to 4AM have very low probability of being delayed, and actually depart ealier than their schedule. In contrast, the flights in the 4PM to 8PM range have higher chances of being delayed: in more than 50% of the cases, the delay is 8 minutes or more.\n",
    "\n",
    "This example shows us that the way representing results are also important.\n"
   ]
  },
  {
   "cell_type": "markdown",
   "metadata": {},
   "source": [
    "<div class='anchor' ></div>\n",
    "#### Question 5.3\n",
    "Plot a bar chart to show the percentage of delayed flights over days in a month"
   ]
  },
  {
   "cell_type": "code",
   "execution_count": 35,
   "metadata": {
    "collapsed": false
   },
   "outputs": [
    {
     "name": "stdout",
     "output_type": "stream",
     "text": [
      "[Row(day_of_month=1, delay_ratio_per_day=0.14879121138182633), Row(day_of_month=2, delay_ratio_per_day=0.15071630875763267), Row(day_of_month=3, delay_ratio_per_day=0.1485433785081635), Row(day_of_month=4, delay_ratio_per_day=0.14438692082007568), Row(day_of_month=5, delay_ratio_per_day=0.1699233477612915), Row(day_of_month=6, delay_ratio_per_day=0.16375036624670378), Row(day_of_month=7, delay_ratio_per_day=0.16580918645839382), Row(day_of_month=8, delay_ratio_per_day=0.16666861970774693), Row(day_of_month=9, delay_ratio_per_day=0.18872040311153185), Row(day_of_month=10, delay_ratio_per_day=0.18175997932476565), Row(day_of_month=11, delay_ratio_per_day=0.14892493705109014), Row(day_of_month=12, delay_ratio_per_day=0.1677401469842281), Row(day_of_month=13, delay_ratio_per_day=0.1782981954096829), Row(day_of_month=14, delay_ratio_per_day=0.16844393047460207), Row(day_of_month=15, delay_ratio_per_day=0.17487129327562273), Row(day_of_month=16, delay_ratio_per_day=0.17532135188398976), Row(day_of_month=17, delay_ratio_per_day=0.1699503914607481), Row(day_of_month=18, delay_ratio_per_day=0.17341797193194777), Row(day_of_month=19, delay_ratio_per_day=0.14538331278063288), Row(day_of_month=20, delay_ratio_per_day=0.17571373479332952), Row(day_of_month=21, delay_ratio_per_day=0.18875919272360012), Row(day_of_month=22, delay_ratio_per_day=0.1770000875631184), Row(day_of_month=23, delay_ratio_per_day=0.1762910454319107), Row(day_of_month=24, delay_ratio_per_day=0.16173916179325515), Row(day_of_month=25, delay_ratio_per_day=0.16903275898109715), Row(day_of_month=26, delay_ratio_per_day=0.19714754661752593), Row(day_of_month=27, delay_ratio_per_day=0.2196271507166135), Row(day_of_month=28, delay_ratio_per_day=0.20485561248253376), Row(day_of_month=29, delay_ratio_per_day=0.16665275057002474), Row(day_of_month=30, delay_ratio_per_day=0.14167976140845973), Row(day_of_month=31, delay_ratio_per_day=0.1546164290563476)]\n"
     ]
    },
    {
     "data": {
      "image/png": "[encoded data removed]",
      "text/plain": [
       "<matplotlib.figure.Figure at 0x7fbdd901f0f0>"
      ]
     },
     "metadata": {},
     "output_type": "display_data"
    }
   ],
   "source": [
    "####### The changes of delay ratio over days of month ########\n",
    "# calculate the delay ratio in each day of month\n",
    "statistic_day_of_month = (\n",
    "    df_with_delay\n",
    "        .groupBy(df.day_of_month)\n",
    "        .agg((func.sum('is_delay')/func.count('*')).alias('delay_ratio_per_day'))\n",
    "        # order by day_of_month\n",
    "        .orderBy('day_of_month').select(['day_of_month','delay_ratio_per_day']).collect()\n",
    "    )\n",
    "print(statistic_day_of_month)    \n",
    "# collect data and plot\n",
    "pdf_day_of_month = pd.DataFrame(data=statistic_day_of_month)\n",
    "\n",
    "plt.xlabel(\"day of month\")\n",
    "plt.ylabel(\"delay ratio\")\n",
    "plt.title('Figure 7: The radio of delay over days of month')\n",
    "plt.grid(True,which=\"both\",ls=\"-\")\n",
    "#delay_ratio_label = pdf_delay_ratio_per_hour[0].map(lambda i: delay_ratio[i])\n",
    "\n",
    "\n",
    "# plot bar chart\n",
    "y_pos = range(1,len(pdf_day_of_month)+1)\n",
    "plt.bar(y_pos,pdf_day_of_month[1],align='center',alpha=0.4)\n",
    "\n",
    "plt.xticks(pdf_day_of_month[0], range(1,32))\n",
    "plt.show()\n",
    "\n"
   ]
  },
  {
   "cell_type": "markdown",
   "metadata": {},
   "source": [
    "<div class=\"comment\">\n",
    "PUT YOUR COMMENT HERE !\n",
    "</div>"
   ]
  },
  {
   "cell_type": "markdown",
   "metadata": {},
   "source": [
    "<div class='anchor' ></div>\n",
    "#### Question 5.4\n",
    "Plot a bar chart to show the percentage of delayed flights over days in a week"
   ]
  },
  {
   "cell_type": "code",
   "execution_count": 48,
   "metadata": {
    "collapsed": false
   },
   "outputs": [
    {
     "data": {
      "image/png": "[encoded data removed]",
      "text/plain": [
       "<matplotlib.figure.Figure at 0x7f30104256a0>"
      ]
     },
     "metadata": {},
     "output_type": "display_data"
    }
   ],
   "source": [
    "####### The changes of delay ratio over days of week ########\n",
    "# calculate the delay ratio in each day of week\n",
    "statistic_day_of_week = (\n",
    "    df_with_delay.\n",
    "        groupBy(df.day_of_week)\n",
    "        .agg((func.sum('is_delay')/func.count('*')).alias('delay_ratio_per_day_of_week'))\n",
    "        .orderBy('day_of_week').select(['day_of_week','delay_ratio_per_day_of_week']).collect()\n",
    "    )\n",
    "    \n",
    "# collect data and plot\n",
    "pdf_day_of_week = pd.DataFrame(data=statistic_day_of_week)\n",
    "map_int_into_day = { 1:\"Mon\", 2:\"Tue\", 3:\"Wed\", 4:\"Thu\", 5:\"Fri\", 6:\"Sat\", 7:\"Sun\" }\n",
    "day_of_week_label = pdf_day_of_week[0].map(lambda i: map_int_into_day[i])\n",
    "plt.xlabel(\"day of week\")\n",
    "plt.ylabel(\"delay ratio\")\n",
    "\n",
    "plt.title('Figure 8: The radio of delay over days of week')\n",
    "y_pos = range(len(pdf_day_of_week))\n",
    "plt.bar(y_pos,pdf_day_of_week[1],align='center',alpha=0.4)\n",
    "\n",
    "plt.xticks(pdf_day_of_week[0]-1, day_of_week_label)\n",
    "plt.show()\n"
   ]
  },
  {
   "cell_type": "markdown",
   "metadata": {},
   "source": [
    "<div class=\"comment\">\n",
    "As we can see, saturday and sunday are the days with the least ratios. This appears to be normal because they are also the days with less quantity of flights and, because delays can be caused by the airlines traffic in the tracks of the airport and inside the airport itself, appears to be reasonable that those days that have the least amount of these things have also the least amount of delays.\n",
    "</div>"
   ]
  },
  {
   "cell_type": "markdown",
   "metadata": {},
   "source": [
    "<div class='anchor' ></div>\n",
    "#### Question 5.5\n",
    "Plot a bar chart to show the percentage of delayed flights over months in a year"
   ]
  },
  {
   "cell_type": "code",
   "execution_count": 51,
   "metadata": {
    "collapsed": false
   },
   "outputs": [
    {
     "data": {
      "image/png": "[encoded data removed]",
      "text/plain": [
       "<matplotlib.figure.Figure at 0x7f300b2dbac8>"
      ]
     },
     "metadata": {},
     "output_type": "display_data"
    }
   ],
   "source": [
    "####### The changes of delay ratio over months ########\n",
    "# calculate the delay ratio in month\n",
    "statistic_month = (\n",
    "    df_with_delay.\n",
    "        groupBy(df.month)\n",
    "        .agg((func.sum('is_delay')/func.count('*')).alias('delay_ratio_per_month'))\n",
    "        .orderBy('month').select(['month','delay_ratio_per_month']).collect()\n",
    "    )\n",
    "    \n",
    "# collect data and plot\n",
    "pdf_month = pd.DataFrame(data=statistic_month)\n",
    "map_int_into_month = { 1:\"Jan\", 2:\"Feb\", 3:\"Mar\", 4:\"Apr\", 5:\"May\", 6:\"Jun\", 7:\"Jul\",8:\"Aug\",9:\"Sep\",10:\"Oct\",11:\"Nov\",12:\"Dec\" }\n",
    "month_label= pdf_month[0].map(lambda i: map_int_into_month[i])\n",
    "plt.xlabel(\"month\")\n",
    "plt.ylabel(\"delay ratio\")\n",
    "plt.title('Figure 9: The radio of delay over months')\n",
    "y_pos = range(len(pdf_month))\n",
    "plt.bar(y_pos,pdf_month[1],align='center',alpha=0.4)\n",
    "\n",
    "plt.xticks(pdf_month[0]-1, month_label)\n",
    "plt.show()\n"
   ]
  },
  {
   "cell_type": "markdown",
   "metadata": {},
   "source": [
    "<div class=\"comment\">\n",
    "PUT YOUR COMMENT HERE !\n",
    "</div>"
   ]
  },
  {
   "cell_type": "markdown",
   "metadata": {},
   "source": [
    "We are ready now to draw some observations from our data, even if we have only looked at data coming from a year worth of flights:\n",
    "\n",
    "- The probability for a flight to be delayed is low at the beginning or at the very end of a given months\n",
    "- Flights on two first weekdays and on the weekend are less likely to be delayed\n",
    "- May and September are very good months for travelling, as the probability of delay is low (remember we're working on US data. Do you think this is also true in France?)\n",
    "\n",
    "Putting things together, we can have a global picture of the whole year!"
   ]
  },
  {
   "cell_type": "code",
   "execution_count": 52,
   "metadata": {
    "collapsed": false
   },
   "outputs": [],
   "source": [
    "df_with_delay = df.withColumn('is_delay', when(df[\"arrival_delay\"] >= 15, 1).otherwise(0))\n",
    "statistic_day = df_with_delay.groupBy(['year','month', 'day_of_month', 'day_of_week'])\\\n",
    "    .agg((func.sum('is_delay')/func.count('*')).alias('delay_ratio'))\n",
    "\n",
    "# assume that we do statistic on year 1994\n",
    "statistic_day = statistic_day\\\n",
    "    .orderBy('year', 'month', 'day_of_month', 'day_of_week')\n",
    "pdf = pd.DataFrame(data=statistic_day.collect())"
   ]
  },
  {
   "cell_type": "code",
   "execution_count": 53,
   "metadata": {
    "collapsed": false
   },
   "outputs": [
    {
     "data": {
      "image/png": "[encoded data removed]",
      "text/plain": [
       "<matplotlib.figure.Figure at 0x7f300b1a32e8>"
      ]
     },
     "metadata": {},
     "output_type": "display_data"
    }
   ],
   "source": [
    "fig = plt.figure(figsize=(20,10))                                                             \n",
    "ax = fig.add_subplot(1,1,1)     \n",
    "plt.xlabel(\"Weeks/Months in year\")\n",
    "plt.ylabel(\"Day of weeks (1:Monday -> 7 :Sunday)\")\n",
    "plt.title('Figure 10: The change of number flights over days in year')\n",
    "  \n",
    "rec_size = 0.3\n",
    "from matplotlib.patches import Rectangle\n",
    "import datetime\n",
    "num_days = len(pdf[0])\n",
    "ax.patch.set_facecolor('gray')\n",
    "ax.set_aspect('equal', 'box')\n",
    "ax.xaxis.set_major_locator(plt.NullLocator())\n",
    "ax.yaxis.set_major_locator(plt.NullLocator())\n",
    "\n",
    "for i in range(0, num_days):\n",
    "    # extract information from the result\n",
    "    year = pdf[0][i]\n",
    "    month = pdf[1][i]\n",
    "    day_of_month = pdf[2][i]\n",
    "    day_of_week = pdf[3][i]\n",
    "    day_of_year= datetime.date(year=year, month=month, day=day_of_month).timetuple()\n",
    "    week_of_year = datetime.date(year=year, month=month, day=day_of_month).isocalendar()[1]\n",
    "    \n",
    "    # dealing with the week of the previous year\n",
    "    if week_of_year == 52 and month == 1:\n",
    "        week_of_year = 0\n",
    "        \n",
    "    # the coordinate of a day in graph\n",
    "    X = week_of_year*rec_size\n",
    "    Y = day_of_week*rec_size\n",
    "    \n",
    "    # use different colors to show the delay ratio\n",
    "    color = 'white'\n",
    "    if pdf[4][i] <= 0.084:\n",
    "        color = 'lightyellow'\n",
    "    elif pdf[4][i] <= 0.117:\n",
    "        color = 'lightgreen'\n",
    "    elif pdf[4][i] <= 0.152:\n",
    "        color = 'gold'\n",
    "    elif pdf[4][i] <= 0.201:\n",
    "        color = 'orange'\n",
    "    else:\n",
    "        color = 'red'\n",
    "    rect = plt.Rectangle((X - rec_size/2.0, Y - rec_size/2.0), rec_size, rec_size,\n",
    "                      alpha=1, facecolor=color, edgecolor='whitesmoke')\n",
    "\n",
    "    ax.add_patch(rect)\n",
    "    \n",
    "    # drawing boders to separate months\n",
    "    if day_of_month <= 7:\n",
    "        rect2 = plt.Rectangle((X -rec_size/2.0, Y - rec_size/2.0), 0.01, rec_size,\n",
    "                      alpha=1, facecolor='black')\n",
    "        ax.add_patch(rect2)\n",
    "    if day_of_month == 1:\n",
    "        rect2 = plt.Rectangle((X - rec_size/2.0, Y - rec_size/2.0), rec_size, 0.01,\n",
    "                      alpha=1, facecolor='black')\n",
    "        ax.add_patch(rect2)\n",
    "ax.autoscale_view()\n",
    "\n",
    "patch1 = mpatches.Patch(color='lightyellow', label='delay ratio < 8.4%')\n",
    "patch2 = mpatches.Patch(color='lightgreen', label='delay ratio < 11.7%')\n",
    "patch3 = mpatches.Patch(color='gold', label='delay ratio < 15.2%')\n",
    "patch4 = mpatches.Patch(color='orange', label='delay ratio < 20.1%')\n",
    "patch5 = mpatches.Patch(color='red', label='delay ratio >= 20.1%')\n",
    "\n",
    "plt.legend(handles=[patch1, patch2, patch3, patch4, patch5], bbox_to_anchor=(1.05, 1), loc=2, borderaxespad=0.)\n",
    "\n",
    "plt.show()"
   ]
  },
  {
   "cell_type": "markdown",
   "metadata": {},
   "source": [
    "<div class='anchor' ></div>\n",
    "#### Question 5.6\n",
    "Explain figure 10."
   ]
  },
  {
   "cell_type": "markdown",
   "metadata": {},
   "source": [
    "<div class=\"answer\">\n",
    "The figure shows the percentage of delays over the month of a year (the rectangles), over the week of a year (a week corresponds to a column) and over the days of the week in the year(a day corresponds to a row). For example we can immediately see that May and September have a predominance of green and white with a prevalence for the first two and the last two days of the weeks of those months. By contrary January appears to be the month in which is less advised to travel, especially from Wednesday to Friday in which the delay ratio is always >=20.1%\n",
    "</div>"
   ]
  },
  {
   "cell_type": "markdown",
   "metadata": {
    "collapsed": true
   },
   "source": [
    "<div class='anchor' ></div>\n",
    "#### Question 5.7\n",
    "\n",
    "What is the delay probability for the top 20 busiest airports?\n",
    "By drawing the flight volume of each airport and the associated delay probability in a single plot, we can observe the relaltionship between aiports, number of flights and the delay.\n",
    "\n",
    "HINT: Function `<df_colum>.isin(<list>)` helps checking whether a value in column belongs to a list."
   ]
  },
  {
   "cell_type": "code",
   "execution_count": 58,
   "metadata": {
    "collapsed": false
   },
   "outputs": [],
   "source": [
    "\n",
    "####### The delay ratio of the top 20 busiest airports ########\n",
    "K = 20\n",
    "\n",
    "# extract top_20_airports from stat_airport_traffic\n",
    "top_20_airports = [item[0] for item in stat_airport_traffic.take(K)]\n",
    "\n",
    "# select the statistic of source airports\n",
    "statistic_ratio_delay_airport = (\n",
    "    df_with_delay\n",
    "        # select only flights that depart from one of top 20 ariports\n",
    "        .filter(df_with_delay.src_airport.isin(top_20_airports))\n",
    "        # group by source airport\n",
    "        .groupBy('src_airport')\n",
    "        #  calculate the delay ratio\n",
    "        .agg((func.sum('is_delay')/func.count('*')).alias('delay_ratio'))\n",
    "        # sort by name of airport\n",
    "        .orderBy(['src_airport'])\n",
    "    )\n",
    "#statistic_ratio_delay_airport.show(20)\n"
   ]
  },
  {
   "cell_type": "code",
   "execution_count": 59,
   "metadata": {
    "collapsed": false
   },
   "outputs": [
    {
     "data": {
      "image/png": "[encoded data removed]",
      "text/plain": [
       "<matplotlib.figure.Figure at 0x7f300b32a320>"
      ]
     },
     "metadata": {},
     "output_type": "display_data"
    }
   ],
   "source": [
    "# collect data and plot\n",
    "pdf_ratio_delay_airport = pd.DataFrame(data=statistic_ratio_delay_airport.collect())\n",
    "pdf_top_20_airport_volume = pd.DataFrame(data=stat_airport_traffic.take(K), columns=['src_airport', 'total'])\n",
    "pdf_top_20_airport_volume = pdf_top_20_airport_volume.sort_values(by='src_airport')\n",
    "#print(pdf_top_20_airport_volume)\n",
    "index = np.arange(len(top_20_airports))\n",
    "bar_width = 0.35\n",
    "opacity = 0.4\n",
    "\n",
    "\n",
    "fig = plt.figure(figsize=(20,10))                                                             \n",
    "ax = fig.add_subplot(1,1,1)\n",
    "\n",
    "ax2 = ax.twinx()\n",
    "plt.axis('normal')\n",
    "ax.set_xlabel(\"Airport\")\n",
    "ax.set_ylabel(\"Flight volume\")\n",
    "ax2.set_ylabel(\"Ratio of delay\")\n",
    "plt.xticks(index + bar_width, top_20_airports)\n",
    "plt.title('Figure 11: The ratio of delay over months')\n",
    "plt.grid(True,which=\"both\",ls=\"-\")\n",
    "bar = ax.bar(index, pdf_top_20_airport_volume['total'], \n",
    "        bar_width, color='b', \n",
    "        label='flight volume')\n",
    "bar2 = ax2.bar(index + 1.5*bar_width, pdf_ratio_delay_airport[1], bar_width, \n",
    "       align='center', color='r', \n",
    "       label='Delay ratio')\n",
    "\n",
    "lines, labels = ax.get_legend_handles_labels()\n",
    "lines2, labels2 = ax2.get_legend_handles_labels()\n",
    "ax2.legend(lines + lines2, labels + labels2, loc=0)\n",
    "\n",
    "plt.tight_layout()\n",
    "plt.show()"
   ]
  },
  {
   "cell_type": "markdown",
   "metadata": {},
   "source": [
    "<div class=\"comment\">\n",
    "PUT YOUR COMMENT HERE !\n",
    "</div>"
   ]
  },
  {
   "cell_type": "markdown",
   "metadata": {},
   "source": [
    "<div class='anchor' ></div>\n",
    "#### Question 5.8\n",
    "What is the percentage of delayed flights which belong to one of the top 20 busiest carriers? Comment the figure!"
   ]
  },
  {
   "cell_type": "code",
   "execution_count": 62,
   "metadata": {
    "collapsed": false
   },
   "outputs": [],
   "source": [
    "\n",
    "K = 20\n",
    "\n",
    "# extract top_20_carriers from stat_carrier\n",
    "top_20_carriers = [item[0] for item in stat_carrier.take(K)]\n",
    "\n",
    "\n",
    "\n",
    "statistic_ratio_delay_carrier = (\n",
    "    df_with_delay\n",
    "        # select only flights that belong from one of top 20 carriers\n",
    "        .filter(df_with_delay.carrier.isin(top_20_carriers))\n",
    "        # group by carriers\n",
    "        .groupBy('carrier')\n",
    "        #  calculate the delay ratio\n",
    "        .agg((func.sum('is_delay')/func.count('*')).alias('delay_ratio'))\n",
    "        # sort by name of airport\n",
    "        .orderBy(['carrier'])\n",
    "    )\n",
    "#statistic_ratio_delay_carrier.show(20)\n",
    "\n"
   ]
  },
  {
   "cell_type": "code",
   "execution_count": 63,
   "metadata": {
    "collapsed": false
   },
   "outputs": [
    {
     "data": {
      "image/png": "[encoded data removed]",
      "text/plain": [
       "<matplotlib.figure.Figure at 0x7f300ad59e80>"
      ]
     },
     "metadata": {},
     "output_type": "display_data"
    }
   ],
   "source": [
    "# collect data and plot\n",
    "pdf_ratio_delay_carrier = pd.DataFrame(data=statistic_ratio_delay_carrier.collect())\n",
    "pdf_top_20_carrier_volume = pd.DataFrame(data=stat_carrier.take(K), columns=['carrier', 'count'])\n",
    "pdf_top_20_carrier_volume = pdf_top_20_carrier_volume.sort_values(by='carrier')\n",
    "#print(pdf_top_20_carrier_volume)\n",
    "top_20_carriers.sort()\n",
    "index = np.arange(len(top_20_carriers))\n",
    "bar_width = 0.35\n",
    "opacity = 0.4\n",
    "\n",
    "\n",
    "fig = plt.figure(figsize=(20,10))                                                             \n",
    "ax = fig.add_subplot(1,1,1)\n",
    "\n",
    "ax2 = ax.twinx()\n",
    "plt.axis('normal')\n",
    "ax.set_xlabel(\"Carrier\")\n",
    "ax.set_ylabel(\"Flight volume\")\n",
    "ax2.set_ylabel(\"Ratio of delay\")\n",
    "plt.xticks(index + bar_width, top_20_carriers)\n",
    "\n",
    "plt.title('Figure 11: The radio of delay over months')\n",
    "plt.grid(True,which=\"both\",ls=\"-\")\n",
    "bar = ax.bar(index, pdf_top_20_carrier_volume['count'], \n",
    "        bar_width, color='b', \n",
    "        label='flight volume')\n",
    "bar2 = ax2.bar(index + 1.5*bar_width, pdf_ratio_delay_carrier[1], bar_width, \n",
    "       align='center', color='r', \n",
    "       label='Delay ratio')\n",
    "\n",
    "lines, labels = ax.get_legend_handles_labels()\n",
    "lines2, labels2 = ax2.get_legend_handles_labels()\n",
    "ax2.legend(lines + lines2, labels + labels2, loc=0)\n",
    "\n",
    "plt.tight_layout()\n",
    "plt.show()"
   ]
  },
  {
   "cell_type": "markdown",
   "metadata": {},
   "source": [
    "<div class=\"comment\">\n",
    "PUT YOUR COMMENT HERE !\n",
    "</div>"
   ]
  },
  {
   "cell_type": "markdown",
   "metadata": {},
   "source": [
    "# 4. Building a model of our data\n",
    "Now that we have a good grasp on our data and its features, we will focus on how build a statistic model. Note that the features we can decide to use, to train our model, can be put in two groups:\n",
    "\n",
    "- **Explicit features**: these are features that are present in the original data, or that can be built using additional data sources such as `weather` (for example querying a public API)\n",
    "- **Implicit features**: these are the features that are inferred from other features such as `is_weekend`, `is_holiday`, `season`, `in_winter`,...\n",
    "\n",
    "In this notebook, we will focus on the following predictors: `year`, `month`, `day_of_month`, `day_of_week`, `scheduled_departure_time`, `scheduled_arrival_time`, `carrier`, `is_weekend`, `distance`, `src_airport`, `dest_airport`. Among them, `is_weekend` is an implicit feature. The rest are explicit features.\n",
    "\n",
    "The target feature is `arrival_delay`. \n",
    "\n",
    "Currently, MLLIB only supports building models from RDDs. It is important to read well the documentation and the MLLib API, to make sure to use the algorithms in an appropriate manner:\n",
    "\n",
    "- MLLIB supports both categorical and numerical features. However, for each categorical feature, we have to indicate how many distinct values they can take\n",
    "- Each training record must be a ```LabelledPoint```. This datastructure has 2 components: ```label``` and ```predictor vector```. ```label``` is the value of target feature in the current record. ```predictor vector``` is a vector of values of type ```Double```. As such, we need to map each value of each categorical feature to a number. In this project, we choose a naïve approach: map each value to an unique index. \n",
    "- MLLIB uses a binning technique to find the split point (the predicate in each tree node). In particular, it divides the domain of numerical features into ```maxBins``` bins (32 by default). With categorical features, each distinct value fits in its own bin. **IMPORTANT:** MLLIB requires that no categorical feature have more than `maxBins` distinct values.\n",
    "- We fill up the missing values in each **categorical** feature with it's most common value. The missing values of a **numerical** feature are also replaced by the most common value (however, in some cases, a more sensible approach would be to use the median of this kind of feature).\n"
   ]
  },
  {
   "cell_type": "markdown",
   "metadata": {},
   "source": [
    "## 4.1 Mapping values of each categorical feature to indices"
   ]
  },
  {
   "cell_type": "markdown",
   "metadata": {},
   "source": [
    "![](https://farm2.staticflickr.com/1604/24934700445_833f0a5649_t.jpg)"
   ]
  },
  {
   "cell_type": "markdown",
   "metadata": {},
   "source": [
    "<div class='anchor' ></div>\n",
    "### Question 6 \n",
    "\n",
    "Among the selected features, `src_aiport`, `dest_airport`, `carrier` and `distance` have missing values. Besides, the first three of them are categorical features. That means, in order to use them as input features of MLLIB, the values of these features must be numberical. We can use a naïve approach: map each value of each feature to an unique index.\n",
    "\n",
    "#### Question 6.1\n",
    "Calculate the frequency of each source aiport in the data and build a dictionary that maps each of them to a unique index.\n",
    "\n",
    "Note: we sort the airports by their frequency in descending order, so that we can easily take the most common airport(s) by taking the first element(s) in the result."
   ]
  },
  {
   "cell_type": "code",
   "execution_count": 9,
   "metadata": {
    "collapsed": false
   },
   "outputs": [
    {
     "name": "stdout",
     "output_type": "stream",
     "text": [
      "0\n",
      "2\n"
     ]
    }
   ],
   "source": [
    "\n",
    "# select distinct source airports and map values to index\n",
    "# sort the airport by their frequency descending\n",
    "# so the most common aiport will be on the top\n",
    "stat_src = (\n",
    "    df\n",
    "        .groupBy('src_airport')\n",
    "        .agg(func.count('*').alias('count'))\n",
    "        .orderBy(desc('count'))\n",
    "    )\n",
    "\n",
    "# extract the airport names from stat_src\n",
    "src_airports = [item[0] for item in stat_src.collect()]\n",
    "\n",
    "num_src_airports = len(src_airports)\n",
    "src_airports_idx = range(0, num_src_airports)\n",
    "map_src_airport_to_index = dict(zip(src_airports, src_airports_idx))\n",
    "\n",
    "# test the dictionary\n",
    "print(map_src_airport_to_index['ORD'])\n",
    "print(map_src_airport_to_index['ATL'])\n"
   ]
  },
  {
   "cell_type": "markdown",
   "metadata": {},
   "source": [
    "<div class='anchor' ></div>\n",
    "#### Question 6.2\n",
    "Calculate the frequency of each destination aiport in the data and build a dictionary that maps each of them to a unique index."
   ]
  },
  {
   "cell_type": "code",
   "execution_count": 13,
   "metadata": {
    "collapsed": false
   },
   "outputs": [
    {
     "name": "stdout",
     "output_type": "stream",
     "text": [
      "0\n",
      "2\n"
     ]
    }
   ],
   "source": [
    "\n",
    "# select distinct destination airports and map values to index\n",
    "# sort the airport by their frequency descending\n",
    "# so the most common aiport will be on the top\n",
    "stat_dest = (\n",
    "    df\n",
    "        .groupBy('dest_airport')\n",
    "        .agg(func.count('*').alias('count'))\n",
    "        .orderBy(desc('count'))\n",
    "    )\n",
    "\n",
    "# extract the airport names from stat_src\n",
    "dest_airports = [item[0] for item in stat_dest.collect()]\n",
    "num_dest_airports = len(dest_airports)\n",
    "dest_airports_idx = range(0, num_dest_airports)\n",
    "map_dest_airports_to_index= dict(zip(dest_airports, dest_airports_idx))\n",
    "\n",
    "\n",
    "\n",
    "# test the dictionary\n",
    "print(map_src_airport_to_index['ORD'])\n",
    "print(map_src_airport_to_index['ATL'])\n"
   ]
  },
  {
   "cell_type": "markdown",
   "metadata": {},
   "source": [
    "<div class='anchor' ></div>\n",
    "#### Question 6.3\n",
    "Calculate the frequency of each carrier in the data and build a dictionary that maps each of them to a unique index."
   ]
  },
  {
   "cell_type": "code",
   "execution_count": 15,
   "metadata": {
    "collapsed": false
   },
   "outputs": [
    {
     "name": "stdout",
     "output_type": "stream",
     "text": [
      "0\n",
      "2\n"
     ]
    }
   ],
   "source": [
    "\n",
    "# select distinct carriers and map values to index\n",
    "# sort carriers by their frequency descending\n",
    "# so the most common aiport will be on the top\n",
    "stat_carrier = (\n",
    "    df\n",
    "        .groupBy('carrier')\n",
    "        .agg(func.count('*').alias('count'))\n",
    "        .orderBy(desc('count'))\n",
    "    )\n",
    "\n",
    "# extract the airport names from stat_src\n",
    "carriers = [item[0] for item in stat_carrier.collect()]\n",
    "num_carriers = len(carriers)\n",
    "carriers_idx = range(0, num_carriers)\n",
    "map_carriers_to_index= dict(zip(carriers, carriers_idx))\n",
    "\n",
    "print(map_carriers_to_index['DL'])\n",
    "print(map_carriers_to_index['AA'])\n"
   ]
  },
  {
   "cell_type": "markdown",
   "metadata": {},
   "source": [
    "## 4.2 Calculating the most common value of each feature\n",
    "We use a simple strategy for filling in the missing values : replacing them with the most common value of the corresponding feature.\n",
    "\n",
    "**IMPORTANT NOTE:** features like ```month```, ```day_of_month```, etc... can be treated as numerical features in general. However, when it comes to build the model, it is much easier considering them as categorical features. In this case, to compute the most common value for such categorical features, we simply use the frequency of occurrence of each `label`, and chose the most frequent."
   ]
  },
  {
   "cell_type": "markdown",
   "metadata": {},
   "source": [
    "![](https://farm2.staticflickr.com/1604/24934700445_833f0a5649_t.jpg)"
   ]
  },
  {
   "cell_type": "markdown",
   "metadata": {},
   "source": [
    "<div class='anchor' ></div>\n",
    "### Question 7\n",
    "In the previous question, when constructing the dictionary for categorical features, we also sort their statistical information in a such way that the most common value of each feature are placed on the top.\n",
    "\n",
    "Note that, feature `is_weekend` has the most common value set to `0` (that is, `no` the day is not a weekend)."
   ]
  },
  {
   "cell_type": "markdown",
   "metadata": {},
   "source": [
    "<div class='anchor' ></div>\n",
    "#### Question 7.1\n",
    "Find the most common value of feature `month` in data.\n",
    "\n"
   ]
  },
  {
   "cell_type": "code",
   "execution_count": 16,
   "metadata": {
    "collapsed": false
   },
   "outputs": [
    {
     "name": "stdout",
     "output_type": "stream",
     "text": [
      "The most common month: 8\n"
     ]
    }
   ],
   "source": [
    "\n",
    "the_most_common_month = (\n",
    "    df\n",
    "        .groupBy('month')\n",
    "        .agg(func.count('*').alias('count'))\n",
    "        .orderBy(desc('count'))\n",
    "    ).first()[0]\n",
    "\n",
    "print(\"The most common month:\", the_most_common_month)\n",
    "\n"
   ]
  },
  {
   "cell_type": "markdown",
   "metadata": {},
   "source": [
    "<div class='anchor' ></div>\n",
    "#### Question 7.2\n",
    "Find the most common value of features `day_of_month` and `day_of_week`."
   ]
  },
  {
   "cell_type": "code",
   "execution_count": 17,
   "metadata": {
    "collapsed": false
   },
   "outputs": [
    {
     "name": "stdout",
     "output_type": "stream",
     "text": [
      "The most common day of month: 11\n",
      "The most common day of week: 3\n"
     ]
    }
   ],
   "source": [
    "\n",
    "the_most_common_day_of_month = (\n",
    "    df\n",
    "        .groupBy('day_of_month')\n",
    "        .agg(func.count('*').alias('count'))\n",
    "        .orderBy(desc('count'))\n",
    "    ).first()[0]\n",
    "\n",
    "the_most_common_day_of_week = (\n",
    "    df\n",
    "        .groupBy('day_of_week')\n",
    "        .agg(func.count('*').alias('count'))\n",
    "        .orderBy(desc('count'))\n",
    "    ).first()[0]\n",
    "\n",
    "print(\"The most common day of month:\", the_most_common_day_of_month)\n",
    "print(\"The most common day of week:\", the_most_common_day_of_week)\n",
    "\n"
   ]
  },
  {
   "cell_type": "markdown",
   "metadata": {},
   "source": [
    "<div class='anchor' ></div>\n",
    "#### Question 7.3\n",
    "Find the most common value of features `scheduled_departure_time` and `scheduled_arrival_time`."
   ]
  },
  {
   "cell_type": "code",
   "execution_count": 18,
   "metadata": {
    "collapsed": false
   },
   "outputs": [
    {
     "name": "stdout",
     "output_type": "stream",
     "text": [
      "The most common scheduled departure time: 700\n",
      "The most common scheduled arrival time: 1915\n"
     ]
    }
   ],
   "source": [
    "\n",
    "the_most_common_s_departure_time = (\n",
    "    df\n",
    "        .groupBy('scheduled_departure_time')\n",
    "        .agg(func.count('*').alias('count'))\n",
    "        .orderBy(desc('count'))\n",
    "    ).first()[0]\n",
    "\n",
    "the_most_common_s_arrival_time = (\n",
    "    df\n",
    "        .groupBy('scheduled_arrival_time')\n",
    "        .agg(func.count('*').alias('count'))\n",
    "        .orderBy(desc('count'))\n",
    "    ).first()[0]\n",
    "\n",
    "print(\"The most common scheduled departure time:\", the_most_common_s_departure_time)\n",
    "print(\"The most common scheduled arrival time:\", the_most_common_s_arrival_time)\n"
   ]
  },
  {
   "cell_type": "markdown",
   "metadata": {},
   "source": [
    "<div class='anchor' ></div>\n",
    "#### Question 7.4\n",
    "Calculate the mean of distance in the data. This value will be used to fill in the missing values of feature `distance` later."
   ]
  },
  {
   "cell_type": "code",
   "execution_count": 27,
   "metadata": {
    "collapsed": false
   },
   "outputs": [
    {
     "name": "stdout",
     "output_type": "stream",
     "text": [
      "mean distance: 670.7402911985982\n"
     ]
    }
   ],
   "source": [
    "\n",
    "# calculate mean distance\n",
    "mean_distance = (\n",
    "    df\n",
    "        #.groupBy('distance')\n",
    "        .agg(func.mean('distance').alias('mean_distance'))\n",
    "        #.orderBy(desc('mean_distance'))\n",
    "    ).first()[0]\n",
    "print(\"mean distance:\", mean_distance)\n"
   ]
  },
  {
   "cell_type": "markdown",
   "metadata": {},
   "source": [
    "<div class='anchor' ></div>\n",
    "#### Question 7.5\n",
    "Calculate the mean of arrival delay."
   ]
  },
  {
   "cell_type": "code",
   "execution_count": 38,
   "metadata": {
    "collapsed": false
   },
   "outputs": [
    {
     "name": "stdout",
     "output_type": "stream",
     "text": [
      "mean arrival delay: 5.662489742613603\n"
     ]
    }
   ],
   "source": [
    "\n",
    "# calculate mean arrival delay\n",
    "\n",
    "mean_arrival_delay = (\n",
    "    df\n",
    "        #.groupBy('distance')\n",
    "        .agg(func.mean('arrival_delay').alias('mean_distance'))\n",
    "        #.orderBy(desc('mean_distance'))\n",
    "    ).first()[0]\n",
    "print(\"mean arrival delay:\", mean_arrival_delay)\n"
   ]
  },
  {
   "cell_type": "markdown",
   "metadata": {},
   "source": [
    "As known from section 3.4, there are 225 different origin airports and 225 different destination airports, more than the number of bins in default configuration. So, we must set `maxBins` >= 225."
   ]
  },
  {
   "cell_type": "markdown",
   "metadata": {},
   "source": [
    "## 4.3 Preparing training data and testing data\n",
    "Recall, in this project we focus on decision trees. One way to think about our task is that we want to predict the unknown `arrival_delay` as a function combining several features, that is:\n",
    "\n",
    "`arrival_delay = f(year, month, day_of_month, day_of_week, scheduled_departure_time, scheduled_arrival_time, carrier, src_airport, dest_airport, distance, is_weekend)`\n",
    "\n",
    "When categorical features contain corrupt data (e.g., missing values), we proceed by replacing corrupt information with the most common value for the feature. For numerical features, in general, we use the same approach as for categorical features; in some cases, we repair corrupt data using the mean value of the distribution for numerical features (e.g., we found the mean for `delay` and `distance`, by answering questions above).\n",
    "\n",
    "The original data is split randomly into two parts with ratios 70% for **training** and 30% for **testing**."
   ]
  },
  {
   "cell_type": "markdown",
   "metadata": {},
   "source": [
    "![](https://farm2.staticflickr.com/1604/24934700445_833f0a5649_t.jpg)"
   ]
  },
  {
   "cell_type": "markdown",
   "metadata": {},
   "source": [
    "<div class='anchor' ></div>\n",
    "### Question 8\n",
    "- Replace the missing values of each feature in our data by the corresponding most common value or mean.\n",
    "- Divide data into two parts: 70% for training and 30% for testing"
   ]
  },
  {
   "cell_type": "code",
   "execution_count": 43,
   "metadata": {
    "collapsed": false
   },
   "outputs": [
    {
     "name": "stdout",
     "output_type": "stream",
     "text": [
      "[LabeledPoint(-11.0, [1994.0,1.0,8.0,6.0,900.0,1003.0,1.0,9.0,55.0,290.0,1.0]), LabeledPoint(2.0, [1994.0,1.0,14.0,5.0,900.0,1003.0,1.0,9.0,55.0,290.0,0.0]), LabeledPoint(1.0, [1994.0,1.0,15.0,6.0,900.0,1003.0,1.0,9.0,55.0,290.0,1.0]), LabeledPoint(-4.0, [1994.0,1.0,18.0,2.0,900.0,1003.0,1.0,9.0,55.0,290.0,0.0]), LabeledPoint(3.0, [1994.0,1.0,31.0,1.0,900.0,1003.0,1.0,9.0,55.0,290.0,0.0])]\n"
     ]
    }
   ],
   "source": [
    "from pyspark.mllib.tree import DecisionTree, DecisionTreeModel\n",
    "from pyspark.mllib.util import MLUtils\n",
    "from pyspark.mllib.regression import LabeledPoint\n",
    "\n",
    "\n",
    "def is_valid(value):\n",
    "    return value != \"NA\" and len(value) > 0\n",
    "\n",
    "data = cleaned_data\\\n",
    "    .map(lambda line: line.split(','))\\\n",
    "    .map(lambda values: \n",
    "        LabeledPoint( \n",
    "            int(values[14]) if is_valid(values[14]) else mean_arrival_delay, # arrival delay\n",
    "            [\n",
    "                int(values[0]), # year\n",
    "                int(values[1]) if is_valid(values[1]) else most_common_month, # month\n",
    "                int(values[2]) if is_valid(values[2]) else the_most_common_day_of_month, # day of month\n",
    "                int(values[3]) if is_valid(values[3]) else the_most_common_day_of_week, # day of week\n",
    "                int(values[5]) if is_valid(values[5]) else the_most_common_s_departure_time, # scheduled departure time\n",
    "                int(values[7]) if is_valid(values[7]) else the_most_common_s_arrival_time, # scheduled arrival time\n",
    "                # if the value is valid, map it to the corresponding index\n",
    "                # otherwise, use the most common value\n",
    "                map_carriers_to_index[values[8]] if is_valid(values[8]) \\\n",
    "                    else map_carriers_to_index[carriers[0]], # carrier\n",
    "                map_src_airport_to_index[values[16]] if is_valid(values[16]) \\\n",
    "                    else map_carriers_to_index[src_airport[0]], # src_airport\n",
    "                map_dest_airports_to_index[values[17]] if is_valid(values[17]) \\\n",
    "                    else map_carriers_to_index[dest_airport[0]], # destination_airport\n",
    "                int(values[18]) if is_valid(values[18]) else mean_distance, # distance\n",
    "                1 if is_valid(values[3]) and int(values[3]) >= 6 else 0, # is_weekend\n",
    "            ]\n",
    "        )\n",
    "    )\n",
    "\n",
    "# Split the data into training and test sets (30% held out for testing)\n",
    "\n",
    "(trainingData, testData) = data.randomSplit(weights=[0.7,0.3])\n",
    "\n",
    "trainingData = trainingData.cache()\n",
    "testData = testData.cache()\n",
    "print(testData.take(5))"
   ]
  },
  {
   "cell_type": "markdown",
   "metadata": {},
   "source": [
    "## 5.4 Building a decision tree model"
   ]
  },
  {
   "cell_type": "markdown",
   "metadata": {},
   "source": [
    "![](https://farm2.staticflickr.com/1604/24934700445_833f0a5649_t.jpg)"
   ]
  },
  {
   "cell_type": "markdown",
   "metadata": {},
   "source": [
    "<div class='anchor' ></div>\n",
    "### Question 9\n",
    "We can train a decision model by using function `DecisionTree.trainRegressor(<training_data>, categoricalFeaturesInfo=<categorical_info>, impurity=<impurity_function>,  maxDepth=<max_depth>, maxBins=<max_bins>)`.\n",
    "\n",
    "Where,\n",
    "\n",
    "* `training_data` : the data used for training\n",
    "* `categorical_info` : a dictionary that maps the index of each categorical features to its number of distince values\n",
    "* `impurity_function` : the function that is used to calculate impurity of data in order to select the best split\n",
    "* `max_depth`: the maximum depth of the tree\n",
    "* `max_bins`: the maximum number of bins that the algorithm will divide on each feature. Note that, `max_bins` can not smaller than the number distinct values of every categorical features.\n",
    "\n",
    "Complete the code below to train a decision tree model.\n"
   ]
  },
  {
   "cell_type": "code",
   "execution_count": 44,
   "metadata": {
    "collapsed": true
   },
   "outputs": [],
   "source": [
    "# declare information of categorical features\n",
    "# format:  feature_index : number_distinct_values\n",
    "categorical_info = {6 : num_carriers, 7:num_src_airports , 8: num_dest_airports, 10: 2}\n",
    "\n",
    "# Train a DecisionTree model.\n",
    "model = DecisionTree.trainRegressor(trainingData, \n",
    "                                    categoricalFeaturesInfo=categorical_info,\n",
    "                                    impurity='variance', maxDepth=12, maxBins=255)\n",
    "#255 or 225 (number of different airports)?"
   ]
  },
  {
   "cell_type": "markdown",
   "metadata": {
    "collapsed": true
   },
   "source": [
    "## 5.5 Testing the decision tree model"
   ]
  },
  {
   "cell_type": "markdown",
   "metadata": {},
   "source": [
    "![](https://farm2.staticflickr.com/1604/24934700445_833f0a5649_t.jpg)"
   ]
  },
  {
   "cell_type": "markdown",
   "metadata": {},
   "source": [
    "<div class='anchor' ></div>\n",
    "### Question 10\n",
    "#### Question 10.1\n",
    "We often use Mean Square Error as a metric to evaluate the quality of a tree model. Complete the code below to calculate the MSE of our trained model."
   ]
  },
  {
   "cell_type": "code",
   "execution_count": 65,
   "metadata": {
    "collapsed": false
   },
   "outputs": [
    {
     "name": "stdout",
     "output_type": "stream",
     "text": [
      "Test Mean Squared Error = 489.921126814119\n"
     ]
    }
   ],
   "source": [
    "\n",
    "# Evaluate model on test instances and compute test error\n",
    "predictions = model.predict(testData.map(lambda x: x.features))\n",
    "labelsAndPredictions = testData.map(lambda lp: lp.label).zip(predictions)\n",
    "#print(labelsAndPredictions.collect())\n",
    "testMSE = labelsAndPredictions.map(\n",
    "    lambda p: (float(p[0])-p[1])**2)\n",
    "testMSE=testMSE.sum()/testMSE.count()\n",
    "print('Test Mean Squared Error = ' + str(testMSE))\n",
    "\n"
   ]
  },
  {
   "cell_type": "markdown",
   "metadata": {},
   "source": [
    "<div class='anchor' ></div>\n",
    "### Question 10.2\n",
    "Comment the results you have obtained. Is the MSE value you get from a decision tree indicating that our statistical model is very good in predicting airplane delays? Use your own words to describe and interpret the value you obtained for the MSE."
   ]
  },
  {
   "cell_type": "markdown",
   "metadata": {},
   "source": [
    "<div class=\"answer\">\n",
    "PUT YOUR ANSWER HERE !\n",
    "</div>"
   ]
  },
  {
   "cell_type": "markdown",
   "metadata": {},
   "source": [
    "## 5.6 Building random decision forest model (or random forest)\n",
    "Next, we use MLLib to build a more powerful model: random forests. In what follows, use the same predictors defined and computed above to build a decision tree, but this time use them to build a random decision forest."
   ]
  },
  {
   "cell_type": "markdown",
   "metadata": {},
   "source": [
    "![](https://farm2.staticflickr.com/1604/24934700445_833f0a5649_t.jpg)"
   ]
  },
  {
   "cell_type": "markdown",
   "metadata": {},
   "source": [
    "<div class='anchor' ></div>\n",
    "### Question 11\n",
    "Train a random decision forest model and evaluate its quality using MSE metric. Compare to decision tree model and comment the results. Similarly to question 10.2, comment with your own words the MSE value you have obtained."
   ]
  },
  {
   "cell_type": "code",
   "execution_count": 67,
   "metadata": {
    "collapsed": false
   },
   "outputs": [
    {
     "name": "stdout",
     "output_type": "stream",
     "text": [
      "Test Mean Squared Error = 485.0441901050448\n"
     ]
    }
   ],
   "source": [
    "from pyspark.mllib.tree import RandomForest, RandomForestModel\n",
    "\n",
    "# Train a RandomForest model.\n",
    "forest_model = RandomForest.trainRegressor(trainingData, categoricalFeaturesInfo=categorical_info,\n",
    "                                    numTrees=10, impurity='variance', maxDepth=12, maxBins=255)\n",
    "\n",
    "predictions_forest = forest_model.predict(testData.map(lambda x: x.features))\n",
    "labelsAndPredictions_forest = testData.map(lambda lp: lp.label).zip(predictions_forest)\n",
    "#print(labelsAndPredictions.collect())\n",
    "testMSE = labelsAndPredictions_forest.map(\n",
    "    lambda p: (float(p[0])-p[1])**2)\n",
    "testMSE=testMSE.sum()/testMSE.count()\n",
    "\n",
    "print('Test Mean Squared Error = ' + str(testMSE))\n"
   ]
  },
  {
   "cell_type": "markdown",
   "metadata": {},
   "source": [
    "<div class=\"comment\">\n",
    "PUT YOUR COMMENT HERE !\n",
    "</div>"
   ]
  },
  {
   "cell_type": "markdown",
   "metadata": {},
   "source": [
    "## 5.7 Parameter tuning\n",
    "In this lecture, we used `maxDepth=12`, `maxBins=255`, `numTrees=10`. Next, we are going to explore the meta-paramter space a little bit.\n",
    "\n",
    "For more information about parameter tunning, please read the documentation of [MLLIB](http://spark.apache.org/docs/latest/mllib-decision-tree.html#tunable-parameters)"
   ]
  },
  {
   "cell_type": "markdown",
   "metadata": {},
   "source": [
    "![](https://farm2.staticflickr.com/1604/24934700445_833f0a5649_t.jpg)"
   ]
  },
  {
   "cell_type": "markdown",
   "metadata": {},
   "source": [
    "<div class='anchor' ></div>\n",
    "\n",
    "### Question 12\n",
    "Train the random forest model using different parameters, to understand their impact on the main performance metric we have used here, that is the MSE. For example, you can try a similar approach to that presented in the Notebook on reccommender systems, that is using nested for loops.\n",
    "\n",
    "**NOTE:** be careful when selecting parameters as some might imply very long training times, or eventually, the typical memory problems that affect Spark!"
   ]
  },
  {
   "cell_type": "code",
   "execution_count": null,
   "metadata": {
    "collapsed": false
   },
   "outputs": [
    {
     "name": "stdout",
     "output_type": "stream",
     "text": [
      "Test Mean Squared Error = 518.9797413976154\n",
      "Test Mean Squared Error = 518.4078302524329\n",
      "Test Mean Squared Error = 462.00662508680676"
     ]
    }
   ],
   "source": [
    "evaluations = []\n",
    "\n",
    "for maxDepth in [6, 15]:\n",
    "    for maxBins in [225, 285]:\n",
    "        for numTrees in [10]:\n",
    "            forest_model = RandomForest.trainRegressor(trainingData, categoricalFeaturesInfo=categorical_info,\n",
    "                                    numTrees=numTrees, impurity='variance', maxDepth=maxDepth, maxBins=maxBins)\n",
    "\n",
    "            predictions_forest = forest_model.predict(testData.map(lambda x: x.features))\n",
    "            labelsAndPredictions_forest = testData.map(lambda lp: lp.label).zip(predictions_forest)\n",
    "            testMSE = labelsAndPredictions_forest.map(\n",
    "            lambda p: (float(p[0])-p[1])**2)\n",
    "            testMSE=testMSE.sum()/testMSE.count()\n",
    "\n",
    "            print('Test Mean Squared Error = ' + str(testMSE))\n",
    "evaluations.sort(key= lambda x: x[1] )\n",
    "                 \n",
    "evalDataFrame = pd.DataFrame(data=evaluations)\n",
    "print(evalDataFrame)\n",
    "\n",
    "#trainData.unpersist()\n",
    "#cvData.unpersist()"
   ]
  },
  {
   "cell_type": "markdown",
   "metadata": {},
   "source": [
    "# 6. Addition (bonus) questions\n",
    "As you may have noticed, the performance of our statistical models is somehow questionable! What are we missing here? Why is that even using state-of-the-art approaches give poor results?\n",
    "\n",
    "In what follows, we will try to address some of the limitations of the present Notebook, and provide additional data that might help.\n",
    "\n",
    "## 6.1. Additional data\n",
    "In the HDFS file system you have used for running the Notebook, you will notice that there are several other years available (in addition to 1994), which could be used to train a statistical model with more data. In the end, we're playing with \"Big Data\", hence one might think that feeding more training data to the algorithm should help!\n",
    "\n",
    "## 6.2. Feature selection\n",
    "\n",
    "You might think that the flight delays do not only depend on the source aiport, destination airport, departure time, etc... as we assumed. They also depend on other features such as the weather, the origin country, the destination city,... To improve the prediction quality, we should consider these features too.\n",
    "\n",
    "There are some other datasets that related to this usecase:\n",
    "\n",
    "- Airport IATA Codes to City names and Coordinates mapping: http://stat-computing.org/dataexpo/2009/airports.csv\n",
    "- Carrier codes to Full name mapping: http://stat-computing.org/dataexpo/2009/carriers.csv\n",
    "- Information about individual planes: http://stat-computing.org/dataexpo/2009/plane-data.csv\n",
    "- Weather information: http://www.wunderground.com/weather/api/. You can subscribe for free to the developers API and obtain (at a limited rate) hystorical weather information in many different formats. Also, to get an idea of the kind of information is available, you can use this link: http://www.wunderground.com/history/\n"
   ]
  },
  {
   "cell_type": "markdown",
   "metadata": {},
   "source": [
    "![](https://farm2.staticflickr.com/1604/24934700445_833f0a5649_t.jpg)"
   ]
  },
  {
   "cell_type": "markdown",
   "metadata": {},
   "source": [
    "<div class='anchor' ></div>\n",
    "\n",
    "### Question 13\n",
    "Using the data sources above, select additional feature and repeat the process of defining an appropriate training and test datasets, to evaluate the impact of new features on the performance of the model. Focus first on decision trees, then move to random forests."
   ]
  },
  {
   "cell_type": "markdown",
   "metadata": {},
   "source": [
    "> The important thing is to not stop questioning. Curiosity has its own reason for existence. (Albert Einstein)\n",
    "\n",
    "<div class=\"note\">\n",
    "Be active ! Ask yourself other questions which help you explore more about this data and try to answer them. Make this notebook be a part of your CV !\n",
    "</div>"
   ]
  },
  {
   "cell_type": "code",
   "execution_count": null,
   "metadata": {
    "collapsed": true
   },
   "outputs": [],
   "source": [
    "def is_valid(value):\n",
    "    return value != \"NA\" and len(value) > 0\n",
    "\n",
    "data = cleaned_data\\\n",
    "    .map(lambda line: line.split(','))\\\n",
    "    .map(lambda values: \n",
    "        LabeledPoint( \n",
    "            int(values[14]) if is_valid(values[14]) else mean_arrival_delay, # arrival delay\n",
    "            [\n",
    "                int(values[0]), # year\n",
    "                int(values[1]) if is_valid(values[1]) else most_common_month, # month\n",
    "                int(values[2]) if is_valid(values[2]) else the_most_common_day_of_month, # day of month\n",
    "                int(values[3]) if is_valid(values[3]) else the_most_common_day_of_week, # day of week\n",
    "                int(values[5]) if is_valid(values[5]) else the_most_common_s_departure_time, # scheduled departure time\n",
    "                int(values[7]) if is_valid(values[7]) else the_most_common_s_arrival_time, # scheduled arrival time\n",
    "                \n",
    "                \n",
    "                \n",
    "                \n",
    "                # if the value is valid, map it to the corresponding index\n",
    "                # otherwise, use the most common value\n",
    "                map_carriers_to_index[values[8]] if is_valid(values[8]) \\\n",
    "                    else map_carriers_to_index[carriers[0]], # carrier\n",
    "                map_src_airport_to_index[values[16]] if is_valid(values[16]) \\\n",
    "                    else map_carriers_to_index[src_airport[0]], # src_airport\n",
    "                map_dest_airports_to_index[values[17]] if is_valid(values[17]) \\\n",
    "                    else map_carriers_to_index[dest_airport[0]], # destination_airport\n",
    "                int(values[18]) if is_valid(values[18]) else mean_distance, # distance\n",
    "                1 if is_valid(values[3]) and int(values[3]) >= 6 else 0, # is_weekend\n",
    "            ]\n",
    "        )\n",
    "    )\n",
    "\n",
    "# Split the data into training and test sets (30% held out for testing)\n",
    "\n",
    "(trainingData, testData) = data.randomSplit(weights=[0.7,0.3])\n",
    "\n",
    "trainingData = trainingData.cache()\n",
    "testData = testData.cache()\n",
    "print(testData.take(5))"
   ]
  },
  {
   "cell_type": "markdown",
   "metadata": {
    "collapsed": true
   },
   "source": [
    "# Summary\n",
    "In this lecture, we've had an overview about Decision Trees, Random Forests and how to use them. We also insisted on a simple methodology to adopt when dealing with a Data Science problem. \n",
    "The main take home messages should be:\n",
    "\n",
    "* Feature selection is a difficult, delicate and important task. In this project, the student was heavily guided. However, we invite to exercise with additional features, for example external ones related to weather conditions.\n",
    "\n",
    "* Parameter tuning requires a deep understanding of the algorithm used to build a statistical model. In general, to reduce computational cost, several techniques introduce parameters that, if tuned properly, can lead to tremendous time savings."
   ]
  },
  {
   "cell_type": "code",
   "execution_count": null,
   "metadata": {
    "collapsed": true
   },
   "outputs": [],
   "source": []
  }
 ],
 "metadata": {
  "kernelspec": {
   "display_name": "Python 3",
   "language": "python",
   "name": "python3"
  },
  "language_info": {
   "codemirror_mode": {
    "name": "ipython",
    "version": 3
   },
   "file_extension": ".py",
   "mimetype": "text/x-python",
   "name": "python",
   "nbconvert_exporter": "python",
   "pygments_lexer": "ipython3",
   "version": "3.5.1"
  }
 },
 "nbformat": 4,
 "nbformat_minor": 0
}
